{
 "cells": [
  {
   "cell_type": "code",
   "execution_count": 1,
   "id": "e5113021",
   "metadata": {},
   "outputs": [
    {
     "name": "stderr",
     "output_type": "stream",
     "text": [
      "21/08/13 15:10:43 WARN Utils: Your hostname, DESKTOP-M8PQ28M resolves to a loopback address: 127.0.1.1; using 192.168.86.205 instead (on interface wifi0)\n",
      "21/08/13 15:10:43 WARN Utils: Set SPARK_LOCAL_IP if you need to bind to another address\n",
      "21/08/13 15:10:44 WARN NativeCodeLoader: Unable to load native-hadoop library for your platform... using builtin-java classes where applicable\n",
      "Using Spark's default log4j profile: org/apache/spark/log4j-defaults.properties\n",
      "Setting default log level to \"WARN\".\n",
      "To adjust logging level use sc.setLogLevel(newLevel). For SparkR, use setLogLevel(newLevel).\n",
      "INFO:SparkMonitorKernel:Client Connected ('127.0.0.1', 56142)\n"
     ]
    }
   ],
   "source": [
    "from pyspark import SparkContext\n",
    "\n",
    "# Start the spark context\n",
    "sc = SparkContext.getOrCreate(conf=swan_spark_conf) "
   ]
  },
  {
   "cell_type": "code",
   "execution_count": 2,
   "id": "96f230ea",
   "metadata": {},
   "outputs": [],
   "source": [
    "'''\n",
    "Project 1\n",
    "'''\n",
    "import pandas as pd\n",
    "import numpy as np\n",
    "import seaborn as sns\n",
    "import matplotlib.pyplot as plt\n",
    "import folium\n",
    "\n",
    "# a nice way of filtering out deprecated warnings\n",
    "import warnings\n",
    "warnings.filterwarnings(\"ignore\")\n",
    "\n",
    "# start a spark session (from spark tutrial)\n",
    "from pyspark.sql import SparkSession\n",
    "import warnings\n",
    "warnings.filterwarnings(\"ignore\")\n",
    "\n",
    "# create a spark session (which will run spark jobs)\n",
    "spark = SparkSession.builder.getOrCreate()"
   ]
  },
  {
   "cell_type": "code",
   "execution_count": 3,
   "id": "54f010dd",
   "metadata": {},
   "outputs": [],
   "source": [
    "# make it look nice\n",
    "spark.conf.set('spark.sql.repl.eagerEval.enabled', True)"
   ]
  },
  {
   "cell_type": "code",
   "execution_count": 4,
   "id": "bbbdaf17",
   "metadata": {},
   "outputs": [],
   "source": [
    "# make fast\n",
    "spark.conf.set('spark.sql.execution.arrow.pyspark.enabled', True)"
   ]
  },
  {
   "cell_type": "code",
   "execution_count": 5,
   "id": "982554c7",
   "metadata": {},
   "outputs": [
    {
     "name": "stderr",
     "output_type": "stream",
     "text": [
      "                                                                                \r"
     ]
    }
   ],
   "source": [
    "# schema\n",
    "import pyspark.sql.functions as F\n",
    "from pyspark.sql.types import *\n",
    "from pyspark.sql.functions import col\n",
    "\n",
    "\n",
    "feb_yellow_sdf = spark.read.csv('../Proj1data/yellow_tripdata_2019-02.csv', header=True)\n",
    "\n",
    "ints = ('VendorID', 'passenger_count', 'RatecodeID', 'PULocationID', 'DOLocationID', 'payment_type',)\n",
    "doubles = ('trip_distance', 'fare_amount', 'extra', 'mta_tax', 'tip_amount', 'tolls_amount', \n",
    "           'improvement_surcharge', 'total_amount', 'congestion_surcharge')\n",
    "strings = ('store_and_fwd_flag', )\n",
    "dtimes = ('tpep_pickup_datetime', 'tpep_dropoff_datetime', )\n",
    "\n",
    "dtypes = {column: IntegerType() for column in ints}\n",
    "dtypes.update({column: DoubleType() for column in doubles})\n",
    "dtypes.update({column: StringType() for column in strings})\n",
    "dtypes.update({column: TimestampType() for column in dtimes})\n",
    "schema = StructType()\n",
    "\n",
    "for column in feb_yellow_sdf.columns:\n",
    "    schema.add(column, # column name\n",
    "               dtypes[column], # data type\n",
    "               True # is nullable?\n",
    "              )"
   ]
  },
  {
   "cell_type": "code",
   "execution_count": 6,
   "id": "bc5e2917",
   "metadata": {},
   "outputs": [],
   "source": [
    "# read data staight into spark dataframe\n",
    "jan_yellow_sdf = spark.read.csv('../Proj1data/yellow_tripdata_2019-01.csv', header=True, schema=schema)\n",
    "feb_yellow_sdf = spark.read.csv('../Proj1data/yellow_tripdata_2019-02.csv', header=True, schema=schema)\n",
    "mar_yellow_sdf = spark.read.csv('../Proj1data/yellow_tripdata_2019-03.csv', header=True, schema=schema)\n",
    "apr_yellow_sdf = spark.read.csv('../Proj1data/yellow_tripdata_2019-04.csv', header=True, schema=schema)\n",
    "may_yellow_sdf = spark.read.csv('../Proj1data/yellow_tripdata_2019-05.csv', header=True, schema=schema)\n",
    "jun_yellow_sdf = spark.read.csv('../Proj1data/yellow_tripdata_2019-06.csv', header=True, schema=schema)\n",
    "jul_yellow_sdf = spark.read.csv('../Proj1data/yellow_tripdata_2019-07.csv', header=True, schema=schema)\n",
    "aug_yellow_sdf = spark.read.csv('../Proj1data/yellow_tripdata_2019-08.csv', header=True, schema=schema)\n",
    "sep_yellow_sdf = spark.read.csv('../Proj1data/yellow_tripdata_2019-09.csv', header=True, schema=schema)\n",
    "oct_yellow_sdf = spark.read.csv('../Proj1data/yellow_tripdata_2019-10.csv', header=True, schema=schema)\n",
    "nov_yellow_sdf = spark.read.csv('../Proj1data/yellow_tripdata_2019-11.csv', header=True, schema=schema)\n",
    "dec_yellow_sdf = spark.read.csv('../Proj1data/yellow_tripdata_2019-12.csv', header=True, schema=schema)\n",
    "\n",
    "\n",
    "# feb_green = spark.read.csv(\"data/green_tripdata_2019-02.csv\", header=True)\n",
    "# mar_green = spark.read.csv(\"data/green_tripdata_2019-03.csv\", header=True)\n",
    "# apr_green = spark.read.csv(\"data/green_tripdata_2019-04.csv\", header=True)\n",
    "\n",
    "# feb_fhv = spark.read.csv(\"data/fhv_tripdata_2019-02.csv\", header=True)\n",
    "# mar_fhv = spark.read.csv(\"data/fhv_tripdata_2019-03.csv\", header=True)\n",
    "# apr_fhv = spark.read.csv(\"data/fhv_tripdata_2019-04.csv\", header=True)\n",
    "\n",
    "# feb_fhvhv = spark.read.csv(\"data/fhvhv_tripdata_2019-02.csv\", header=True)\n",
    "# mar_fhvhv = spark.read.csv(\"data/fhvhv_tripdata_2019-03.csv\", header=True)\n",
    "# apr_fhvhv = spark.read.csv(\"data/fhvhv_tripdata_2019-04.csv\", header=True)\n",
    "\n"
   ]
  },
  {
   "cell_type": "code",
   "execution_count": 7,
   "id": "365ff647",
   "metadata": {},
   "outputs": [
    {
     "name": "stdout",
     "output_type": "stream",
     "text": [
      "root\n",
      " |-- VendorID: integer (nullable = true)\n",
      " |-- tpep_pickup_datetime: timestamp (nullable = true)\n",
      " |-- tpep_dropoff_datetime: timestamp (nullable = true)\n",
      " |-- passenger_count: integer (nullable = true)\n",
      " |-- trip_distance: double (nullable = true)\n",
      " |-- RatecodeID: integer (nullable = true)\n",
      " |-- store_and_fwd_flag: string (nullable = true)\n",
      " |-- PULocationID: integer (nullable = true)\n",
      " |-- DOLocationID: integer (nullable = true)\n",
      " |-- payment_type: integer (nullable = true)\n",
      " |-- fare_amount: double (nullable = true)\n",
      " |-- extra: double (nullable = true)\n",
      " |-- mta_tax: double (nullable = true)\n",
      " |-- tip_amount: double (nullable = true)\n",
      " |-- tolls_amount: double (nullable = true)\n",
      " |-- improvement_surcharge: double (nullable = true)\n",
      " |-- total_amount: double (nullable = true)\n",
      " |-- congestion_surcharge: double (nullable = true)\n",
      "\n"
     ]
    }
   ],
   "source": [
    "# combine dataframes\n",
    "yellow_data_2019 = jan_yellow_sdf.union(feb_yellow_sdf).union(mar_yellow_sdf).union(apr_yellow_sdf).union(may_yellow_sdf).union(jun_yellow_sdf).union(jul_yellow_sdf).union(aug_yellow_sdf).union(sep_yellow_sdf).union(oct_yellow_sdf).union(nov_yellow_sdf).union(dec_yellow_sdf)\n",
    "# print(yellow_data_2019.count())\n",
    "yellow_data_2019.printSchema()\n",
    "\n",
    "del jan_yellow_sdf\n",
    "del feb_yellow_sdf\n",
    "del mar_yellow_sdf\n",
    "del apr_yellow_sdf\n",
    "del may_yellow_sdf\n",
    "del jun_yellow_sdf\n",
    "del jul_yellow_sdf\n",
    "del aug_yellow_sdf\n",
    "del sep_yellow_sdf\n",
    "del oct_yellow_sdf\n",
    "del nov_yellow_sdf\n",
    "del dec_yellow_sdf\n",
    "\n",
    "# yellow_data_2019.limit(100)\n",
    "# green_data = feb_green.union(mar_green).union(apr_green)\n",
    "\n",
    "# fhv_data = feb_fhv.union(mar_fhv).union(apr_fhv)\n",
    "\n",
    "# fhvhv_data = feb_fhvhv.union(mar_fhvhv).union(apr_fhvhv)"
   ]
  },
  {
   "cell_type": "code",
   "execution_count": 8,
   "id": "62725ba7",
   "metadata": {},
   "outputs": [
    {
     "name": "stdout",
     "output_type": "stream",
     "text": [
      "StructType(List(StructField(date,DateType,true),StructField(maxTemp,StringType,true)))\n"
     ]
    }
   ],
   "source": [
    "# Engineer features trip time and max temperature\n",
    "'''\n",
    "https://www.andyupton.net/blog/2019/6/12/feature-engineering-with-pyspark\n",
    "'''\n",
    "## Feature engineering\n",
    "from pyspark.sql.functions import lit\n",
    "from pyspark.sql.functions import to_date, dayofweek\n",
    "from pyspark.sql.functions import unix_timestamp\n",
    "\n",
    "yellow_data_2019_wtemp_and_time = yellow_data_2019.withColumn('trip_time', unix_timestamp(\"tpep_dropoff_datetime\") - unix_timestamp('tpep_pickup_datetime'))\n",
    "\n",
    "# get max temperature for the day\n",
    "max_temperatures_sdf = spark.read.csv('../Proj1data/maxTemperaturesNYC.csv', header=True)\n",
    "# max_temperatures_sdf.select(to_date(max_temperatures_sdf.date).alias('date'))\n",
    "\n",
    "max_temperatures_sdf = max_temperatures_sdf.withColumn('date', to_date(max_temperatures_sdf['date']))\n",
    "\n",
    "print(max_temperatures_sdf.schema)\n",
    "\n",
    "# new_df = df1.join(df2, on=['field_B', 'field_C', 'field_D'], how='left_outer')\n",
    "\n",
    "# add column to yellow data\n",
    "# yellow_data_2019_w_temp = yellow_data_2019.withColumn('max_temp', when(yellow_data_2019.date, dic[date]))\n",
    "yellow_data_2019_wtemp_and_time = yellow_data_2019_wtemp_and_time.withColumn('date', to_date(yellow_data_2019_wtemp_and_time.tpep_pickup_datetime))\n",
    "\n",
    "yellow_data_2019_wtemp_and_time = yellow_data_2019_wtemp_and_time.join(max_temperatures_sdf, on=['date'], how='left_outer')\n",
    "\n"
   ]
  },
  {
   "cell_type": "code",
   "execution_count": 9,
   "id": "4b52a659",
   "metadata": {},
   "outputs": [
    {
     "data": {
      "text/plain": [
       "StructType(List(StructField(date,DateType,true),StructField(VendorID,IntegerType,true),StructField(tpep_pickup_datetime,TimestampType,true),StructField(tpep_dropoff_datetime,TimestampType,true),StructField(passenger_count,IntegerType,true),StructField(trip_distance,DoubleType,true),StructField(RatecodeID,IntegerType,true),StructField(store_and_fwd_flag,StringType,true),StructField(PULocationID,IntegerType,true),StructField(DOLocationID,IntegerType,true),StructField(payment_type,IntegerType,true),StructField(fare_amount,DoubleType,true),StructField(extra,DoubleType,true),StructField(mta_tax,DoubleType,true),StructField(tip_amount,DoubleType,true),StructField(tolls_amount,DoubleType,true),StructField(improvement_surcharge,DoubleType,true),StructField(total_amount,DoubleType,true),StructField(congestion_surcharge,DoubleType,true),StructField(trip_time,IntegerType,true),StructField(maxTemp,StringType,true)))"
      ]
     },
     "execution_count": 9,
     "metadata": {},
     "output_type": "execute_result"
    }
   ],
   "source": [
    "# change trip time to int for efficiency\n",
    "yellow_data_2019_wtemp_and_time = yellow_data_2019_wtemp_and_time.withColumn('trip_time', yellow_data_2019_wtemp_and_time.trip_time.cast('int'))\n",
    "yellow_data_2019_wtemp_and_time.schema"
   ]
  },
  {
   "cell_type": "code",
   "execution_count": null,
   "id": "4c504924",
   "metadata": {},
   "outputs": [],
   "source": [
    "# DECRIPTIVE \n",
    "# sql describe\n",
    "# import pyspark.sql.functions as F\n",
    "\n",
    "# from pyspark.sql.functions import col\n",
    "# from pyspark.sql.types import *\n",
    "\n",
    "# yellow_data_2019.summary"
   ]
  },
  {
   "cell_type": "code",
   "execution_count": 16,
   "id": "c7e4f31a",
   "metadata": {},
   "outputs": [
    {
     "name": "stderr",
     "output_type": "stream",
     "text": [
      "                                                                                \r"
     ]
    }
   ],
   "source": [
    "\n",
    "# sample the data for plotting\n",
    "sample = yellow_data_2019_wtemp_and_time.sample(0.01, seed=50)\n",
    "sample.limit(5)\n",
    "\n",
    "y = [val.total_amount for val in sample.select('total_amount').collect()]\n",
    "x_ts = [val.trip_distance for val in sample.select('trip_distance').collect()]"
   ]
  },
  {
   "cell_type": "code",
   "execution_count": 17,
   "id": "2ddff69c",
   "metadata": {},
   "outputs": [
    {
     "data": {
      "text/plain": [
       "'\\nFrom the scatterplot we can see what data we may want to get rid of.\\n - free trips\\n - 0 > trip > 100km\\n - 0 > cost > 600\\n - payment type must be crash or credit (1 or 2)\\n - \\nData seems to follow a linear relationship, however variance increases slightly as trip distance increases.\\n'"
      ]
     },
     "execution_count": 17,
     "metadata": {},
     "output_type": "execute_result"
    },
    {
     "data": {
      "image/png": "[encoded data removed]",
      "text/plain": [
       "<Figure size 432x288 with 1 Axes>"
      ]
     },
     "metadata": {
      "needs_background": "light"
     },
     "output_type": "display_data"
    }
   ],
   "source": [
    "# plot the sample\n",
    "plt.title('Sample Trip Distance vs Total Amount Before Filtering')\n",
    "plt.scatter(x_ts, y)\n",
    "plt.xlabel('Trip Distance (miles)')\n",
    "plt.ylabel('Total Amount')\n",
    "plt.savefig('Plots/Trip Distance vs Total Amount Before Filtering.png')\n",
    "\n",
    "\n",
    "'''\n",
    "From the scatterplot we can see what data we may want to get rid of.\n",
    " - free trips\n",
    " - 0 > trip > 100km\n",
    " - 0 > cost > 600\n",
    " - payment type must be crash or credit (1 or 2)\n",
    " - \n",
    "Data seems to follow a linear relationship, however variance increases slightly as trip distance increases.\n",
    "'''"
   ]
  },
  {
   "cell_type": "code",
   "execution_count": 18,
   "id": "51f204ee",
   "metadata": {},
   "outputs": [
    {
     "name": "stderr",
     "output_type": "stream",
     "text": [
      "                                                                                \r"
     ]
    },
    {
     "data": {
      "image/png": "[encoded data removed]",
      "text/plain": [
       "<Figure size 432x288 with 1 Axes>"
      ]
     },
     "metadata": {
      "needs_background": "light"
     },
     "output_type": "display_data"
    }
   ],
   "source": [
    "# lets also plot fare amount\n",
    "y = [val.fare_amount for val in sample.select('fare_amount').collect()]\n",
    "# x_ts = [val.trip_distance for val in sample.select('trip_distance').collect()]\n",
    "\n",
    "plt.title('Sample Trip Distance vs Fare Amount Before Filtering')\n",
    "plt.scatter(x_ts, y)\n",
    "plt.xlabel('Trip Distance (miles)')\n",
    "plt.ylabel('Fare Amount')\n",
    "plt.savefig('Plots/Trip Distance vs Fare Amount Before Filtering.png')"
   ]
  },
  {
   "cell_type": "code",
   "execution_count": 19,
   "id": "67590385",
   "metadata": {},
   "outputs": [
    {
     "name": "stderr",
     "output_type": "stream",
     "text": [
      "                                                                                \r"
     ]
    }
   ],
   "source": [
    "# plot trip time with fare amount\n",
    "# y = [val.fare_amount for val in sample.select('fare_amount').collect()]\n",
    "x_ts = [val.trip_time/60 for val in sample.select('trip_time').collect()]"
   ]
  },
  {
   "cell_type": "code",
   "execution_count": 20,
   "id": "a171b66d",
   "metadata": {},
   "outputs": [
    {
     "data": {
      "image/png": "[encoded data removed]",
      "text/plain": [
       "<Figure size 432x288 with 1 Axes>"
      ]
     },
     "metadata": {
      "needs_background": "light"
     },
     "output_type": "display_data"
    }
   ],
   "source": [
    "plt.title('Sample Trip Time vs Fare Amount Before Filtering')\n",
    "plt.scatter(x_ts, y)\n",
    "plt.xlabel('Trip Time (minutes)')\n",
    "plt.ylabel('Fare Amount (USD)')\n",
    "plt.savefig('Plots/Trip Time vs Fare Amount Before Filtering.png')"
   ]
  },
  {
   "cell_type": "code",
   "execution_count": 22,
   "id": "baa05fa8",
   "metadata": {},
   "outputs": [
    {
     "name": "stderr",
     "output_type": "stream",
     "text": [
      "[Stage 18:==>             (16 + 8) / 96][Stage 19:>                 (0 + 0) / 1]\r"
     ]
    },
    {
     "ename": "KeyboardInterrupt",
     "evalue": "",
     "output_type": "error",
     "traceback": [
      "\u001b[0;31m---------------------------------------------------------------------------\u001b[0m",
      "\u001b[0;31mKeyboardInterrupt\u001b[0m                         Traceback (most recent call last)",
      "\u001b[0;32m/tmp/ipykernel_941/767280354.py\u001b[0m in \u001b[0;36m<module>\u001b[0;34m\u001b[0m\n\u001b[1;32m      1\u001b[0m \u001b[0;31m# same without changing to minutes\u001b[0m\u001b[0;34m\u001b[0m\u001b[0;34m\u001b[0m\u001b[0;34m\u001b[0m\u001b[0m\n\u001b[0;32m----> 2\u001b[0;31m \u001b[0mx_ts\u001b[0m \u001b[0;34m=\u001b[0m \u001b[0;34m[\u001b[0m\u001b[0mval\u001b[0m\u001b[0;34m.\u001b[0m\u001b[0mtrip_time\u001b[0m\u001b[0;34m/\u001b[0m\u001b[0;36m60\u001b[0m \u001b[0;32mfor\u001b[0m \u001b[0mval\u001b[0m \u001b[0;32min\u001b[0m \u001b[0msample\u001b[0m\u001b[0;34m.\u001b[0m\u001b[0mselect\u001b[0m\u001b[0;34m(\u001b[0m\u001b[0;34m'trip_time'\u001b[0m\u001b[0;34m)\u001b[0m\u001b[0;34m.\u001b[0m\u001b[0mcollect\u001b[0m\u001b[0;34m(\u001b[0m\u001b[0;34m)\u001b[0m\u001b[0;34m]\u001b[0m\u001b[0;34m\u001b[0m\u001b[0;34m\u001b[0m\u001b[0m\n\u001b[0m\u001b[1;32m      3\u001b[0m \u001b[0mplt\u001b[0m\u001b[0;34m.\u001b[0m\u001b[0mtitle\u001b[0m\u001b[0;34m(\u001b[0m\u001b[0;34m'Sample Trip Time vs Fare Amount Before Filtering'\u001b[0m\u001b[0;34m)\u001b[0m\u001b[0;34m\u001b[0m\u001b[0;34m\u001b[0m\u001b[0m\n\u001b[1;32m      4\u001b[0m \u001b[0mplt\u001b[0m\u001b[0;34m.\u001b[0m\u001b[0mscatter\u001b[0m\u001b[0;34m(\u001b[0m\u001b[0mx_ts\u001b[0m\u001b[0;34m,\u001b[0m \u001b[0my\u001b[0m\u001b[0;34m)\u001b[0m\u001b[0;34m\u001b[0m\u001b[0;34m\u001b[0m\u001b[0m\n\u001b[1;32m      5\u001b[0m \u001b[0mplt\u001b[0m\u001b[0;34m.\u001b[0m\u001b[0mxlabel\u001b[0m\u001b[0;34m(\u001b[0m\u001b[0;34m'Trip Time (seconds)'\u001b[0m\u001b[0;34m)\u001b[0m\u001b[0;34m\u001b[0m\u001b[0;34m\u001b[0m\u001b[0m\n",
      "\u001b[0;32m~/.local/lib/python3.8/site-packages/pyspark/sql/dataframe.py\u001b[0m in \u001b[0;36mcollect\u001b[0;34m(self)\u001b[0m\n\u001b[1;32m    675\u001b[0m         \"\"\"\n\u001b[1;32m    676\u001b[0m         \u001b[0;32mwith\u001b[0m \u001b[0mSCCallSiteSync\u001b[0m\u001b[0;34m(\u001b[0m\u001b[0mself\u001b[0m\u001b[0;34m.\u001b[0m\u001b[0m_sc\u001b[0m\u001b[0;34m)\u001b[0m \u001b[0;32mas\u001b[0m \u001b[0mcss\u001b[0m\u001b[0;34m:\u001b[0m\u001b[0;34m\u001b[0m\u001b[0;34m\u001b[0m\u001b[0m\n\u001b[0;32m--> 677\u001b[0;31m             \u001b[0msock_info\u001b[0m \u001b[0;34m=\u001b[0m \u001b[0mself\u001b[0m\u001b[0;34m.\u001b[0m\u001b[0m_jdf\u001b[0m\u001b[0;34m.\u001b[0m\u001b[0mcollectToPython\u001b[0m\u001b[0;34m(\u001b[0m\u001b[0;34m)\u001b[0m\u001b[0;34m\u001b[0m\u001b[0;34m\u001b[0m\u001b[0m\n\u001b[0m\u001b[1;32m    678\u001b[0m         \u001b[0;32mreturn\u001b[0m \u001b[0mlist\u001b[0m\u001b[0;34m(\u001b[0m\u001b[0m_load_from_socket\u001b[0m\u001b[0;34m(\u001b[0m\u001b[0msock_info\u001b[0m\u001b[0;34m,\u001b[0m \u001b[0mBatchedSerializer\u001b[0m\u001b[0;34m(\u001b[0m\u001b[0mPickleSerializer\u001b[0m\u001b[0;34m(\u001b[0m\u001b[0;34m)\u001b[0m\u001b[0;34m)\u001b[0m\u001b[0;34m)\u001b[0m\u001b[0;34m)\u001b[0m\u001b[0;34m\u001b[0m\u001b[0;34m\u001b[0m\u001b[0m\n\u001b[1;32m    679\u001b[0m \u001b[0;34m\u001b[0m\u001b[0m\n",
      "\u001b[0;32m~/.local/lib/python3.8/site-packages/py4j/java_gateway.py\u001b[0m in \u001b[0;36m__call__\u001b[0;34m(self, *args)\u001b[0m\n\u001b[1;32m   1301\u001b[0m             \u001b[0mproto\u001b[0m\u001b[0;34m.\u001b[0m\u001b[0mEND_COMMAND_PART\u001b[0m\u001b[0;34m\u001b[0m\u001b[0;34m\u001b[0m\u001b[0m\n\u001b[1;32m   1302\u001b[0m \u001b[0;34m\u001b[0m\u001b[0m\n\u001b[0;32m-> 1303\u001b[0;31m         \u001b[0manswer\u001b[0m \u001b[0;34m=\u001b[0m \u001b[0mself\u001b[0m\u001b[0;34m.\u001b[0m\u001b[0mgateway_client\u001b[0m\u001b[0;34m.\u001b[0m\u001b[0msend_command\u001b[0m\u001b[0;34m(\u001b[0m\u001b[0mcommand\u001b[0m\u001b[0;34m)\u001b[0m\u001b[0;34m\u001b[0m\u001b[0;34m\u001b[0m\u001b[0m\n\u001b[0m\u001b[1;32m   1304\u001b[0m         return_value = get_return_value(\n\u001b[1;32m   1305\u001b[0m             answer, self.gateway_client, self.target_id, self.name)\n",
      "\u001b[0;32m~/.local/lib/python3.8/site-packages/py4j/java_gateway.py\u001b[0m in \u001b[0;36msend_command\u001b[0;34m(self, command, retry, binary)\u001b[0m\n\u001b[1;32m   1031\u001b[0m         \u001b[0mconnection\u001b[0m \u001b[0;34m=\u001b[0m \u001b[0mself\u001b[0m\u001b[0;34m.\u001b[0m\u001b[0m_get_connection\u001b[0m\u001b[0;34m(\u001b[0m\u001b[0;34m)\u001b[0m\u001b[0;34m\u001b[0m\u001b[0;34m\u001b[0m\u001b[0m\n\u001b[1;32m   1032\u001b[0m         \u001b[0;32mtry\u001b[0m\u001b[0;34m:\u001b[0m\u001b[0;34m\u001b[0m\u001b[0;34m\u001b[0m\u001b[0m\n\u001b[0;32m-> 1033\u001b[0;31m             \u001b[0mresponse\u001b[0m \u001b[0;34m=\u001b[0m \u001b[0mconnection\u001b[0m\u001b[0;34m.\u001b[0m\u001b[0msend_command\u001b[0m\u001b[0;34m(\u001b[0m\u001b[0mcommand\u001b[0m\u001b[0;34m)\u001b[0m\u001b[0;34m\u001b[0m\u001b[0;34m\u001b[0m\u001b[0m\n\u001b[0m\u001b[1;32m   1034\u001b[0m             \u001b[0;32mif\u001b[0m \u001b[0mbinary\u001b[0m\u001b[0;34m:\u001b[0m\u001b[0;34m\u001b[0m\u001b[0;34m\u001b[0m\u001b[0m\n\u001b[1;32m   1035\u001b[0m                 \u001b[0;32mreturn\u001b[0m \u001b[0mresponse\u001b[0m\u001b[0;34m,\u001b[0m \u001b[0mself\u001b[0m\u001b[0;34m.\u001b[0m\u001b[0m_create_connection_guard\u001b[0m\u001b[0;34m(\u001b[0m\u001b[0mconnection\u001b[0m\u001b[0;34m)\u001b[0m\u001b[0;34m\u001b[0m\u001b[0;34m\u001b[0m\u001b[0m\n",
      "\u001b[0;32m~/.local/lib/python3.8/site-packages/py4j/java_gateway.py\u001b[0m in \u001b[0;36msend_command\u001b[0;34m(self, command)\u001b[0m\n\u001b[1;32m   1198\u001b[0m \u001b[0;34m\u001b[0m\u001b[0m\n\u001b[1;32m   1199\u001b[0m         \u001b[0;32mtry\u001b[0m\u001b[0;34m:\u001b[0m\u001b[0;34m\u001b[0m\u001b[0;34m\u001b[0m\u001b[0m\n\u001b[0;32m-> 1200\u001b[0;31m             \u001b[0manswer\u001b[0m \u001b[0;34m=\u001b[0m \u001b[0msmart_decode\u001b[0m\u001b[0;34m(\u001b[0m\u001b[0mself\u001b[0m\u001b[0;34m.\u001b[0m\u001b[0mstream\u001b[0m\u001b[0;34m.\u001b[0m\u001b[0mreadline\u001b[0m\u001b[0;34m(\u001b[0m\u001b[0;34m)\u001b[0m\u001b[0;34m[\u001b[0m\u001b[0;34m:\u001b[0m\u001b[0;34m-\u001b[0m\u001b[0;36m1\u001b[0m\u001b[0;34m]\u001b[0m\u001b[0;34m)\u001b[0m\u001b[0;34m\u001b[0m\u001b[0;34m\u001b[0m\u001b[0m\n\u001b[0m\u001b[1;32m   1201\u001b[0m             \u001b[0mlogger\u001b[0m\u001b[0;34m.\u001b[0m\u001b[0mdebug\u001b[0m\u001b[0;34m(\u001b[0m\u001b[0;34m\"Answer received: {0}\"\u001b[0m\u001b[0;34m.\u001b[0m\u001b[0mformat\u001b[0m\u001b[0;34m(\u001b[0m\u001b[0manswer\u001b[0m\u001b[0;34m)\u001b[0m\u001b[0;34m)\u001b[0m\u001b[0;34m\u001b[0m\u001b[0;34m\u001b[0m\u001b[0m\n\u001b[1;32m   1202\u001b[0m             \u001b[0;32mif\u001b[0m \u001b[0manswer\u001b[0m\u001b[0;34m.\u001b[0m\u001b[0mstartswith\u001b[0m\u001b[0;34m(\u001b[0m\u001b[0mproto\u001b[0m\u001b[0;34m.\u001b[0m\u001b[0mRETURN_MESSAGE\u001b[0m\u001b[0;34m)\u001b[0m\u001b[0;34m:\u001b[0m\u001b[0;34m\u001b[0m\u001b[0;34m\u001b[0m\u001b[0m\n",
      "\u001b[0;32m/usr/lib/python3.8/socket.py\u001b[0m in \u001b[0;36mreadinto\u001b[0;34m(self, b)\u001b[0m\n\u001b[1;32m    667\u001b[0m         \u001b[0;32mwhile\u001b[0m \u001b[0;32mTrue\u001b[0m\u001b[0;34m:\u001b[0m\u001b[0;34m\u001b[0m\u001b[0;34m\u001b[0m\u001b[0m\n\u001b[1;32m    668\u001b[0m             \u001b[0;32mtry\u001b[0m\u001b[0;34m:\u001b[0m\u001b[0;34m\u001b[0m\u001b[0;34m\u001b[0m\u001b[0m\n\u001b[0;32m--> 669\u001b[0;31m                 \u001b[0;32mreturn\u001b[0m \u001b[0mself\u001b[0m\u001b[0;34m.\u001b[0m\u001b[0m_sock\u001b[0m\u001b[0;34m.\u001b[0m\u001b[0mrecv_into\u001b[0m\u001b[0;34m(\u001b[0m\u001b[0mb\u001b[0m\u001b[0;34m)\u001b[0m\u001b[0;34m\u001b[0m\u001b[0;34m\u001b[0m\u001b[0m\n\u001b[0m\u001b[1;32m    670\u001b[0m             \u001b[0;32mexcept\u001b[0m \u001b[0mtimeout\u001b[0m\u001b[0;34m:\u001b[0m\u001b[0;34m\u001b[0m\u001b[0;34m\u001b[0m\u001b[0m\n\u001b[1;32m    671\u001b[0m                 \u001b[0mself\u001b[0m\u001b[0;34m.\u001b[0m\u001b[0m_timeout_occurred\u001b[0m \u001b[0;34m=\u001b[0m \u001b[0;32mTrue\u001b[0m\u001b[0;34m\u001b[0m\u001b[0;34m\u001b[0m\u001b[0m\n",
      "\u001b[0;31mKeyboardInterrupt\u001b[0m: "
     ]
    }
   ],
   "source": [
    "# same without changing to minutes\n",
    "x_ts = [val.trip_time for val in sample.select('trip_time').collect()]\n",
    "plt.title('Sample Trip Time vs Fare Amount Before Filtering')\n",
    "plt.scatter(x_ts, y)\n",
    "plt.xlabel('Trip Time (seconds)')\n",
    "plt.ylabel('Fare Amount (USD)')\n",
    "plt.savefig('Plots/Trip Time (seconds) vs Fare Amount Before Filtering.png')"
   ]
  },
  {
   "cell_type": "code",
   "execution_count": 10,
   "id": "b4884c1c",
   "metadata": {},
   "outputs": [],
   "source": [
    "# filter data using filter\n",
    "\n",
    "# filter fare amount to be between 0 and 600\n",
    "yellow_data_2019_wtemp_and_time = yellow_data_2019_wtemp_and_time.filter(yellow_data_2019_wtemp_and_time.fare_amount > 0) \n",
    "yellow_data_2019_wtemp_and_time = yellow_data_2019_wtemp_and_time.filter(yellow_data_2019_wtemp_and_time.fare_amount < 200)\n",
    "# filter trip distance to be between 0 and 150\n",
    "yellow_data_2019_wtemp_and_time = yellow_data_2019_wtemp_and_time.filter(yellow_data_2019_wtemp_and_time.trip_distance > 0)\n",
    "yellow_data_2019_wtemp_and_time = yellow_data_2019_wtemp_and_time.filter(yellow_data_2019_wtemp_and_time.trip_distance < 150)\n",
    "# filter payment type to be cash or card only\n",
    "yellow_data_2019_wtemp_and_time = yellow_data_2019_wtemp_and_time.filter(yellow_data_2019_wtemp_and_time.payment_type != 3)\n",
    "yellow_data_2019_wtemp_and_time = yellow_data_2019_wtemp_and_time.filter(yellow_data_2019_wtemp_and_time.payment_type != 4)\n",
    "yellow_data_2019_wtemp_and_time = yellow_data_2019_wtemp_and_time.filter(yellow_data_2019_wtemp_and_time.payment_type != 5)\n",
    "yellow_data_2019_wtemp_and_time = yellow_data_2019_wtemp_and_time.filter(yellow_data_2019_wtemp_and_time.payment_type != 6)\n",
    "# filter so rate code must be standard rate\n",
    "yellow_data_2019_wtemp_and_time = yellow_data_2019_wtemp_and_time.filter(yellow_data_2019_wtemp_and_time.RatecodeID == 1)\n",
    "\n",
    "# There also seem to be some dates that are in 2018 instead of 2019. \n",
    "# filter so only 2019 pickup allowed\n",
    "# yellow_data_2019_wtemp_and_time = yellow_data_2019_wtemp_and_time.filter(yellow_data_2019_wtemp_and_time.date >= \\\n",
    "#                                                                          datetime.datetime.timestamp(\"2019-01-01\"))\n",
    "\n",
    "\n",
    "\n",
    "# yellow_data_2019.count()\n",
    "                                 "
   ]
  },
  {
   "cell_type": "code",
   "execution_count": 11,
   "id": "4f3fd4e2",
   "metadata": {},
   "outputs": [],
   "source": [
    "yellow_data_2019_wtemp_and_time = yellow_data_2019_wtemp_and_time.filter(yellow_data_2019_wtemp_and_time.maxTemp.isNotNull())"
   ]
  },
  {
   "cell_type": "code",
   "execution_count": 22,
   "id": "38a2d91f",
   "metadata": {},
   "outputs": [
    {
     "name": "stderr",
     "output_type": "stream",
     "text": [
      "                                                                                \r"
     ]
    },
    {
     "data": {
      "text/html": [
       "<table border='1'>\n",
       "<tr><th>date</th><th>VendorID</th><th>tpep_pickup_datetime</th><th>tpep_dropoff_datetime</th><th>passenger_count</th><th>trip_distance</th><th>RatecodeID</th><th>store_and_fwd_flag</th><th>PULocationID</th><th>DOLocationID</th><th>payment_type</th><th>fare_amount</th><th>extra</th><th>mta_tax</th><th>tip_amount</th><th>tolls_amount</th><th>improvement_surcharge</th><th>total_amount</th><th>congestion_surcharge</th><th>trip_time</th><th>maxTemp</th></tr>\n",
       "<tr><td>2019-01-01</td><td>1</td><td>2019-01-01 00:46:40</td><td>2019-01-01 00:53:20</td><td>1</td><td>1.5</td><td>1</td><td>N</td><td>151</td><td>239</td><td>1</td><td>7.0</td><td>0.5</td><td>0.5</td><td>1.65</td><td>0.0</td><td>0.3</td><td>9.95</td><td>null</td><td>400</td><td>57.92</td></tr>\n",
       "<tr><td>2019-01-01</td><td>1</td><td>2019-01-01 00:59:47</td><td>2019-01-01 01:18:59</td><td>1</td><td>2.6</td><td>1</td><td>N</td><td>239</td><td>246</td><td>1</td><td>14.0</td><td>0.5</td><td>0.5</td><td>1.0</td><td>0.0</td><td>0.3</td><td>16.3</td><td>null</td><td>1152</td><td>57.92</td></tr>\n",
       "<tr><td>2019-01-01</td><td>1</td><td>2019-01-01 00:21:28</td><td>2019-01-01 00:28:37</td><td>1</td><td>1.3</td><td>1</td><td>N</td><td>163</td><td>229</td><td>1</td><td>6.5</td><td>0.5</td><td>0.5</td><td>1.25</td><td>0.0</td><td>0.3</td><td>9.05</td><td>null</td><td>429</td><td>57.92</td></tr>\n",
       "<tr><td>2019-01-01</td><td>1</td><td>2019-01-01 00:32:01</td><td>2019-01-01 00:45:39</td><td>1</td><td>3.7</td><td>1</td><td>N</td><td>229</td><td>7</td><td>1</td><td>13.5</td><td>0.5</td><td>0.5</td><td>3.7</td><td>0.0</td><td>0.3</td><td>18.5</td><td>null</td><td>818</td><td>57.92</td></tr>\n",
       "<tr><td>2019-01-01</td><td>1</td><td>2019-01-01 00:57:32</td><td>2019-01-01 01:09:32</td><td>2</td><td>2.1</td><td>1</td><td>N</td><td>141</td><td>234</td><td>1</td><td>10.0</td><td>0.5</td><td>0.5</td><td>1.7</td><td>0.0</td><td>0.3</td><td>13.0</td><td>null</td><td>720</td><td>57.92</td></tr>\n",
       "</table>\n"
      ],
      "text/plain": [
       "+----------+--------+--------------------+---------------------+---------------+-------------+----------+------------------+------------+------------+------------+-----------+-----+-------+----------+------------+---------------------+------------+--------------------+---------+-------+\n",
       "|      date|VendorID|tpep_pickup_datetime|tpep_dropoff_datetime|passenger_count|trip_distance|RatecodeID|store_and_fwd_flag|PULocationID|DOLocationID|payment_type|fare_amount|extra|mta_tax|tip_amount|tolls_amount|improvement_surcharge|total_amount|congestion_surcharge|trip_time|maxTemp|\n",
       "+----------+--------+--------------------+---------------------+---------------+-------------+----------+------------------+------------+------------+------------+-----------+-----+-------+----------+------------+---------------------+------------+--------------------+---------+-------+\n",
       "|2019-01-01|       1| 2019-01-01 00:46:40|  2019-01-01 00:53:20|              1|          1.5|         1|                 N|         151|         239|           1|        7.0|  0.5|    0.5|      1.65|         0.0|                  0.3|        9.95|                null|      400|  57.92|\n",
       "|2019-01-01|       1| 2019-01-01 00:59:47|  2019-01-01 01:18:59|              1|          2.6|         1|                 N|         239|         246|           1|       14.0|  0.5|    0.5|       1.0|         0.0|                  0.3|        16.3|                null|     1152|  57.92|\n",
       "|2019-01-01|       1| 2019-01-01 00:21:28|  2019-01-01 00:28:37|              1|          1.3|         1|                 N|         163|         229|           1|        6.5|  0.5|    0.5|      1.25|         0.0|                  0.3|        9.05|                null|      429|  57.92|\n",
       "|2019-01-01|       1| 2019-01-01 00:32:01|  2019-01-01 00:45:39|              1|          3.7|         1|                 N|         229|           7|           1|       13.5|  0.5|    0.5|       3.7|         0.0|                  0.3|        18.5|                null|      818|  57.92|\n",
       "|2019-01-01|       1| 2019-01-01 00:57:32|  2019-01-01 01:09:32|              2|          2.1|         1|                 N|         141|         234|           1|       10.0|  0.5|    0.5|       1.7|         0.0|                  0.3|        13.0|                null|      720|  57.92|\n",
       "+----------+--------+--------------------+---------------------+---------------+-------------+----------+------------------+------------+------------+------------+-----------+-----+-------+----------+------------+---------------------+------------+--------------------+---------+-------+"
      ]
     },
     "execution_count": 22,
     "metadata": {},
     "output_type": "execute_result"
    }
   ],
   "source": [
    "yellow_data_2019_wtemp_and_time.limit(5)"
   ]
  },
  {
   "cell_type": "code",
   "execution_count": 11,
   "id": "188596f6",
   "metadata": {},
   "outputs": [],
   "source": [
    "# lets plot another sample to see the difference\n",
    "sample = yellow_data_2019_wtemp_and_time.sample(0.01, seed=50)\n",
    "# sample.limit(5)"
   ]
  },
  {
   "cell_type": "code",
   "execution_count": 12,
   "id": "9d04c024",
   "metadata": {},
   "outputs": [
    {
     "name": "stderr",
     "output_type": "stream",
     "text": [
      "                                                                                \r"
     ]
    },
    {
     "data": {
      "text/plain": [
       "'\\nAfter researching, the JFK fare is just $52.\\nThe standard fare is \"Plus 50 cents per 1/5 mile when traveling above 12mph or per 60 seconds in slow traffic or when the vehicle is stopped.\"\\n\\n'"
      ]
     },
     "execution_count": 12,
     "metadata": {},
     "output_type": "execute_result"
    },
    {
     "data": {
      "image/png": "[encoded data removed]",
      "text/plain": [
       "<Figure size 432x288 with 1 Axes>"
      ]
     },
     "metadata": {
      "needs_background": "light"
     },
     "output_type": "display_data"
    }
   ],
   "source": [
    "# plot after filtering\n",
    "y = [val.fare_amount for val in sample.select('fare_amount').collect()]\n",
    "x_ts = [val.trip_distance for val in sample.select('trip_distance').collect()]\n",
    "\n",
    "plt.scatter(x_ts, y)\n",
    "plt.title('Sample Trip Distance vs Fare Amount After Filtering')\n",
    "plt.xlabel('Trip Distance (miles)')\n",
    "plt.ylabel('Fare Amount')\n",
    "plt.savefig('Plots/Trip Distance vs Fare Amount After Filtering.png')\n",
    "\n",
    "'''\n",
    "still seems to be many trips around $50, and many trips around $0\n",
    "There also seems to be a line around y=x/5\n",
    "'''\n",
    "'''\n",
    "After researching, the JFK fare is just $52.\n",
    "The standard fare is \"Plus 50 cents per 1/5 mile when traveling above 12mph or per 60 seconds in slow traffic or when the vehicle is stopped.\"\n",
    "'''"
   ]
  },
  {
   "cell_type": "code",
   "execution_count": 13,
   "id": "a938ecaa",
   "metadata": {},
   "outputs": [
    {
     "name": "stderr",
     "output_type": "stream",
     "text": [
      "                                                                                \r"
     ]
    },
    {
     "data": {
      "image/png": "[encoded data removed]",
      "text/plain": [
       "<Figure size 432x288 with 1 Axes>"
      ]
     },
     "metadata": {
      "needs_background": "light"
     },
     "output_type": "display_data"
    }
   ],
   "source": [
    "# plot trip time after filtering\n",
    "x_ts = [val.trip_time for val in sample.select('trip_time').collect()]\n",
    "plt.title('Sample Trip Time vs Fare Amount After Filtering')\n",
    "plt.scatter(x_ts, y)\n",
    "plt.xlabel('Trip Time (seconds)')\n",
    "plt.ylabel('Fare Amount (USD)')\n",
    "plt.savefig('Plots/Trip Time (seconds) vs Fare Amount After Filtering.png')"
   ]
  },
  {
   "cell_type": "code",
   "execution_count": 12,
   "id": "412fe8c2",
   "metadata": {},
   "outputs": [],
   "source": [
    "# filter trip time\n",
    "# no trips an be > 2 hours\n",
    "yellow_data_2019_wtemp_and_time = yellow_data_2019_wtemp_and_time.filter(yellow_data_2019_wtemp_and_time.trip_time > 0)\n",
    "yellow_data_2019_wtemp_and_time = yellow_data_2019_wtemp_and_time.filter(yellow_data_2019_wtemp_and_time.trip_time < 7200)"
   ]
  },
  {
   "cell_type": "code",
   "execution_count": 24,
   "id": "6dbb49ba",
   "metadata": {},
   "outputs": [
    {
     "name": "stderr",
     "output_type": "stream",
     "text": [
      "                                                                                \r"
     ]
    },
    {
     "data": {
      "text/html": [
       "<table border='1'>\n",
       "<tr><th>date</th><th>VendorID</th><th>tpep_pickup_datetime</th><th>tpep_dropoff_datetime</th><th>passenger_count</th><th>trip_distance</th><th>RatecodeID</th><th>store_and_fwd_flag</th><th>PULocationID</th><th>DOLocationID</th><th>payment_type</th><th>fare_amount</th><th>extra</th><th>mta_tax</th><th>tip_amount</th><th>tolls_amount</th><th>improvement_surcharge</th><th>total_amount</th><th>congestion_surcharge</th><th>trip_time</th><th>maxTemp</th></tr>\n",
       "<tr><td>2019-01-01</td><td>1</td><td>2019-01-01 00:46:40</td><td>2019-01-01 00:53:20</td><td>1</td><td>1.5</td><td>1</td><td>N</td><td>151</td><td>239</td><td>1</td><td>7.0</td><td>0.5</td><td>0.5</td><td>1.65</td><td>0.0</td><td>0.3</td><td>9.95</td><td>null</td><td>400</td><td>57.92</td></tr>\n",
       "<tr><td>2019-01-01</td><td>1</td><td>2019-01-01 00:59:47</td><td>2019-01-01 01:18:59</td><td>1</td><td>2.6</td><td>1</td><td>N</td><td>239</td><td>246</td><td>1</td><td>14.0</td><td>0.5</td><td>0.5</td><td>1.0</td><td>0.0</td><td>0.3</td><td>16.3</td><td>null</td><td>1152</td><td>57.92</td></tr>\n",
       "<tr><td>2019-01-01</td><td>1</td><td>2019-01-01 00:21:28</td><td>2019-01-01 00:28:37</td><td>1</td><td>1.3</td><td>1</td><td>N</td><td>163</td><td>229</td><td>1</td><td>6.5</td><td>0.5</td><td>0.5</td><td>1.25</td><td>0.0</td><td>0.3</td><td>9.05</td><td>null</td><td>429</td><td>57.92</td></tr>\n",
       "<tr><td>2019-01-01</td><td>1</td><td>2019-01-01 00:32:01</td><td>2019-01-01 00:45:39</td><td>1</td><td>3.7</td><td>1</td><td>N</td><td>229</td><td>7</td><td>1</td><td>13.5</td><td>0.5</td><td>0.5</td><td>3.7</td><td>0.0</td><td>0.3</td><td>18.5</td><td>null</td><td>818</td><td>57.92</td></tr>\n",
       "<tr><td>2019-01-01</td><td>1</td><td>2019-01-01 00:57:32</td><td>2019-01-01 01:09:32</td><td>2</td><td>2.1</td><td>1</td><td>N</td><td>141</td><td>234</td><td>1</td><td>10.0</td><td>0.5</td><td>0.5</td><td>1.7</td><td>0.0</td><td>0.3</td><td>13.0</td><td>null</td><td>720</td><td>57.92</td></tr>\n",
       "</table>\n"
      ],
      "text/plain": [
       "+----------+--------+--------------------+---------------------+---------------+-------------+----------+------------------+------------+------------+------------+-----------+-----+-------+----------+------------+---------------------+------------+--------------------+---------+-------+\n",
       "|      date|VendorID|tpep_pickup_datetime|tpep_dropoff_datetime|passenger_count|trip_distance|RatecodeID|store_and_fwd_flag|PULocationID|DOLocationID|payment_type|fare_amount|extra|mta_tax|tip_amount|tolls_amount|improvement_surcharge|total_amount|congestion_surcharge|trip_time|maxTemp|\n",
       "+----------+--------+--------------------+---------------------+---------------+-------------+----------+------------------+------------+------------+------------+-----------+-----+-------+----------+------------+---------------------+------------+--------------------+---------+-------+\n",
       "|2019-01-01|       1| 2019-01-01 00:46:40|  2019-01-01 00:53:20|              1|          1.5|         1|                 N|         151|         239|           1|        7.0|  0.5|    0.5|      1.65|         0.0|                  0.3|        9.95|                null|      400|  57.92|\n",
       "|2019-01-01|       1| 2019-01-01 00:59:47|  2019-01-01 01:18:59|              1|          2.6|         1|                 N|         239|         246|           1|       14.0|  0.5|    0.5|       1.0|         0.0|                  0.3|        16.3|                null|     1152|  57.92|\n",
       "|2019-01-01|       1| 2019-01-01 00:21:28|  2019-01-01 00:28:37|              1|          1.3|         1|                 N|         163|         229|           1|        6.5|  0.5|    0.5|      1.25|         0.0|                  0.3|        9.05|                null|      429|  57.92|\n",
       "|2019-01-01|       1| 2019-01-01 00:32:01|  2019-01-01 00:45:39|              1|          3.7|         1|                 N|         229|           7|           1|       13.5|  0.5|    0.5|       3.7|         0.0|                  0.3|        18.5|                null|      818|  57.92|\n",
       "|2019-01-01|       1| 2019-01-01 00:57:32|  2019-01-01 01:09:32|              2|          2.1|         1|                 N|         141|         234|           1|       10.0|  0.5|    0.5|       1.7|         0.0|                  0.3|        13.0|                null|      720|  57.92|\n",
       "+----------+--------+--------------------+---------------------+---------------+-------------+----------+------------------+------------+------------+------------+-----------+-----+-------+----------+------------+---------------------+------------+--------------------+---------+-------+"
      ]
     },
     "execution_count": 24,
     "metadata": {},
     "output_type": "execute_result"
    }
   ],
   "source": [
    "yellow_data_2019_wtemp_and_time.limit(5)"
   ]
  },
  {
   "cell_type": "code",
   "execution_count": 13,
   "id": "619c47c4",
   "metadata": {},
   "outputs": [],
   "source": [
    "# convert temperatures to celcius\n",
    "# change trip time to int for efficiency\n",
    "yellow_data_2019_wtemp_and_time = yellow_data_2019_wtemp_and_time.withColumn('maxTemp', (yellow_data_2019_wtemp_and_time['maxTemp'] - 32)*5/9)\n"
   ]
  },
  {
   "cell_type": "code",
   "execution_count": 26,
   "id": "1cab33d4",
   "metadata": {},
   "outputs": [
    {
     "name": "stderr",
     "output_type": "stream",
     "text": [
      "                                                                                \r"
     ]
    },
    {
     "data": {
      "text/html": [
       "<table border='1'>\n",
       "<tr><th>date</th><th>VendorID</th><th>tpep_pickup_datetime</th><th>tpep_dropoff_datetime</th><th>passenger_count</th><th>trip_distance</th><th>RatecodeID</th><th>store_and_fwd_flag</th><th>PULocationID</th><th>DOLocationID</th><th>payment_type</th><th>fare_amount</th><th>extra</th><th>mta_tax</th><th>tip_amount</th><th>tolls_amount</th><th>improvement_surcharge</th><th>total_amount</th><th>congestion_surcharge</th><th>trip_time</th><th>maxTemp</th></tr>\n",
       "<tr><td>2019-01-01</td><td>1</td><td>2019-01-01 00:46:40</td><td>2019-01-01 00:53:20</td><td>1</td><td>1.5</td><td>1</td><td>N</td><td>151</td><td>239</td><td>1</td><td>7.0</td><td>0.5</td><td>0.5</td><td>1.65</td><td>0.0</td><td>0.3</td><td>9.95</td><td>null</td><td>400</td><td>14.400000000000002</td></tr>\n",
       "<tr><td>2019-01-01</td><td>1</td><td>2019-01-01 00:59:47</td><td>2019-01-01 01:18:59</td><td>1</td><td>2.6</td><td>1</td><td>N</td><td>239</td><td>246</td><td>1</td><td>14.0</td><td>0.5</td><td>0.5</td><td>1.0</td><td>0.0</td><td>0.3</td><td>16.3</td><td>null</td><td>1152</td><td>14.400000000000002</td></tr>\n",
       "<tr><td>2019-01-01</td><td>1</td><td>2019-01-01 00:21:28</td><td>2019-01-01 00:28:37</td><td>1</td><td>1.3</td><td>1</td><td>N</td><td>163</td><td>229</td><td>1</td><td>6.5</td><td>0.5</td><td>0.5</td><td>1.25</td><td>0.0</td><td>0.3</td><td>9.05</td><td>null</td><td>429</td><td>14.400000000000002</td></tr>\n",
       "<tr><td>2019-01-01</td><td>1</td><td>2019-01-01 00:32:01</td><td>2019-01-01 00:45:39</td><td>1</td><td>3.7</td><td>1</td><td>N</td><td>229</td><td>7</td><td>1</td><td>13.5</td><td>0.5</td><td>0.5</td><td>3.7</td><td>0.0</td><td>0.3</td><td>18.5</td><td>null</td><td>818</td><td>14.400000000000002</td></tr>\n",
       "<tr><td>2019-01-01</td><td>1</td><td>2019-01-01 00:57:32</td><td>2019-01-01 01:09:32</td><td>2</td><td>2.1</td><td>1</td><td>N</td><td>141</td><td>234</td><td>1</td><td>10.0</td><td>0.5</td><td>0.5</td><td>1.7</td><td>0.0</td><td>0.3</td><td>13.0</td><td>null</td><td>720</td><td>14.400000000000002</td></tr>\n",
       "</table>\n"
      ],
      "text/plain": [
       "+----------+--------+--------------------+---------------------+---------------+-------------+----------+------------------+------------+------------+------------+-----------+-----+-------+----------+------------+---------------------+------------+--------------------+---------+------------------+\n",
       "|      date|VendorID|tpep_pickup_datetime|tpep_dropoff_datetime|passenger_count|trip_distance|RatecodeID|store_and_fwd_flag|PULocationID|DOLocationID|payment_type|fare_amount|extra|mta_tax|tip_amount|tolls_amount|improvement_surcharge|total_amount|congestion_surcharge|trip_time|           maxTemp|\n",
       "+----------+--------+--------------------+---------------------+---------------+-------------+----------+------------------+------------+------------+------------+-----------+-----+-------+----------+------------+---------------------+------------+--------------------+---------+------------------+\n",
       "|2019-01-01|       1| 2019-01-01 00:46:40|  2019-01-01 00:53:20|              1|          1.5|         1|                 N|         151|         239|           1|        7.0|  0.5|    0.5|      1.65|         0.0|                  0.3|        9.95|                null|      400|14.400000000000002|\n",
       "|2019-01-01|       1| 2019-01-01 00:59:47|  2019-01-01 01:18:59|              1|          2.6|         1|                 N|         239|         246|           1|       14.0|  0.5|    0.5|       1.0|         0.0|                  0.3|        16.3|                null|     1152|14.400000000000002|\n",
       "|2019-01-01|       1| 2019-01-01 00:21:28|  2019-01-01 00:28:37|              1|          1.3|         1|                 N|         163|         229|           1|        6.5|  0.5|    0.5|      1.25|         0.0|                  0.3|        9.05|                null|      429|14.400000000000002|\n",
       "|2019-01-01|       1| 2019-01-01 00:32:01|  2019-01-01 00:45:39|              1|          3.7|         1|                 N|         229|           7|           1|       13.5|  0.5|    0.5|       3.7|         0.0|                  0.3|        18.5|                null|      818|14.400000000000002|\n",
       "|2019-01-01|       1| 2019-01-01 00:57:32|  2019-01-01 01:09:32|              2|          2.1|         1|                 N|         141|         234|           1|       10.0|  0.5|    0.5|       1.7|         0.0|                  0.3|        13.0|                null|      720|14.400000000000002|\n",
       "+----------+--------+--------------------+---------------------+---------------+-------------+----------+------------------+------------+------------+------------+-----------+-----+-------+----------+------------+---------------------+------------+--------------------+---------+------------------+"
      ]
     },
     "execution_count": 26,
     "metadata": {},
     "output_type": "execute_result"
    }
   ],
   "source": [
    "yellow_data_2019_wtemp_and_time.limit(5)"
   ]
  },
  {
   "cell_type": "code",
   "execution_count": 14,
   "id": "ba981693",
   "metadata": {},
   "outputs": [],
   "source": [
    "# from spark tutorial\n",
    "\n",
    "from pyspark.sql.functions import mean, count\n",
    "\n",
    "# calculate mean of each tempterature\n",
    "dates = yellow_data_2019_wtemp_and_time.groupBy(\"date\").agg(mean(\"total_amount\").alias(\"Average_Trip_Amount_USD\"),\n",
    "         mean(\"trip_distance\").alias(\"Average_Distance_in_Miles\"), mean(\"trip_time\").alias(\"Average_Time_in_Seconds\"), count(\"date\").alias(\"Trip_Frequency\"))"
   ]
  },
  {
   "cell_type": "code",
   "execution_count": 15,
   "id": "112dc829",
   "metadata": {},
   "outputs": [],
   "source": [
    "dates = dates.join(max_temperatures_sdf, on=['date'], how='left_outer')\n"
   ]
  },
  {
   "cell_type": "code",
   "execution_count": 46,
   "id": "4e859ce9",
   "metadata": {},
   "outputs": [
    {
     "name": "stderr",
     "output_type": "stream",
     "text": [
      "                                                                                \r"
     ]
    }
   ],
   "source": [
    "dates_freq = [val.Trip_Frequency for val in dates.select('Trip_Frequency').collect()]"
   ]
  },
  {
   "cell_type": "code",
   "execution_count": 48,
   "id": "3190e485",
   "metadata": {},
   "outputs": [
    {
     "data": {
      "image/png": "[encoded data removed]",
      "text/plain": [
       "<Figure size 432x288 with 1 Axes>"
      ]
     },
     "metadata": {
      "needs_background": "light"
     },
     "output_type": "display_data"
    }
   ],
   "source": [
    "plt.title('temperature in farenheight vs trip frequency')\n",
    "plt.scatter(x_ts, dates_freq)\n",
    "plt.xlabel('temp')\n",
    "plt.ylabel('trip frequency')\n",
    "plt.savefig('Plots/temp vs trip frequency on a given day.png')"
   ]
  },
  {
   "cell_type": "code",
   "execution_count": null,
   "id": "cca0d989",
   "metadata": {},
   "outputs": [],
   "source": [
    "dates_avg_amount = [val.Average_Trip_Amount_USD for val in dates.select('Average_Trip_Amount_USD').collect()]"
   ]
  },
  {
   "cell_type": "code",
   "execution_count": 35,
   "id": "7956765f",
   "metadata": {},
   "outputs": [
    {
     "name": "stderr",
     "output_type": "stream",
     "text": [
      "                                                                                \r"
     ]
    }
   ],
   "source": [
    "x_ts = [val.maxTemp for val in dates.select('maxTemp').collect()]"
   ]
  },
  {
   "cell_type": "code",
   "execution_count": null,
   "id": "936d2e9a",
   "metadata": {},
   "outputs": [],
   "source": [
    "date_temps = x_ts"
   ]
  },
  {
   "cell_type": "code",
   "execution_count": 36,
   "id": "08949245",
   "metadata": {},
   "outputs": [
    {
     "data": {
      "image/png": "[encoded data removed]",
      "text/plain": [
       "<Figure size 432x288 with 1 Axes>"
      ]
     },
     "metadata": {
      "needs_background": "light"
     },
     "output_type": "display_data"
    }
   ],
   "source": [
    "plt.title('temperature in farenheight vs average trip amount')\n",
    "plt.scatter(x_ts, y)\n",
    "plt.xlabel('temp')\n",
    "plt.ylabel('average Fare Amount (USD)')\n",
    "plt.savefig('Plots/temp vs fare amount.png')"
   ]
  },
  {
   "cell_type": "code",
   "execution_count": 37,
   "id": "ac04e5a2",
   "metadata": {},
   "outputs": [
    {
     "name": "stderr",
     "output_type": "stream",
     "text": [
      "                                                                                \r"
     ]
    }
   ],
   "source": [
    "y = [val.Average_Time_in_Seconds for val in dates.select('Average_Time_in_Seconds').collect()]"
   ]
  },
  {
   "cell_type": "code",
   "execution_count": null,
   "id": "2a256745",
   "metadata": {},
   "outputs": [],
   "source": [
    "date_avg_time = y"
   ]
  },
  {
   "cell_type": "code",
   "execution_count": 38,
   "id": "db3eddb6",
   "metadata": {},
   "outputs": [
    {
     "data": {
      "image/png": "[encoded data removed]",
      "text/plain": [
       "<Figure size 432x288 with 1 Axes>"
      ]
     },
     "metadata": {
      "needs_background": "light"
     },
     "output_type": "display_data"
    }
   ],
   "source": [
    "plt.title('temperature in farenheight vs average trip time')\n",
    "plt.scatter(x_ts, y)\n",
    "plt.xlabel('temp')\n",
    "plt.ylabel('average trip time')\n",
    "plt.savefig('Plots/temp vs trip time.png')"
   ]
  },
  {
   "cell_type": "code",
   "execution_count": 16,
   "id": "6c21c667",
   "metadata": {},
   "outputs": [],
   "source": [
    "## calculate means for each area code\n",
    "areas = yellow_data_2019_wtemp_and_time.groupBy(\"PULocationID\").agg(mean(\"total_amount\").alias(\"Average_Trip_Amount_USD\"),\n",
    "                                                                    mean(\"fare_amount\").alias(\"Average_fare_amount\"), \n",
    "                                                                    mean(\"trip_distance\").alias(\"Average_Distance_in_Miles\"), \n",
    "                                                                    mean(\"trip_time\").alias(\"Average_Time_in_Seconds\"), \n",
    "                                                                    count(\"date\").alias(\"Trip_Frequency\"))"
   ]
  },
  {
   "cell_type": "code",
   "execution_count": 17,
   "id": "44d5546d",
   "metadata": {},
   "outputs": [
    {
     "name": "stderr",
     "output_type": "stream",
     "text": [
      "                                                                                \r"
     ]
    }
   ],
   "source": [
    "areas_avg_trip_amount = [val.Average_Trip_Amount_USD for val in areas.select('Average_Trip_Amount_USD').collect()]"
   ]
  },
  {
   "cell_type": "code",
   "execution_count": 18,
   "id": "619e95d8",
   "metadata": {},
   "outputs": [
    {
     "name": "stderr",
     "output_type": "stream",
     "text": [
      "                                                                                \r"
     ]
    }
   ],
   "source": [
    "areas_freq = [val.Trip_Frequency for val in areas.select('Trip_Frequency').collect()]"
   ]
  },
  {
   "cell_type": "code",
   "execution_count": 19,
   "id": "070555b7",
   "metadata": {},
   "outputs": [
    {
     "name": "stderr",
     "output_type": "stream",
     "text": [
      "                                                                                \r"
     ]
    }
   ],
   "source": [
    "areas_avg_trip_time = [val.Average_Time_in_Seconds for val in areas.select('Average_Time_in_Seconds').collect()]"
   ]
  },
  {
   "cell_type": "code",
   "execution_count": 20,
   "id": "659d2255",
   "metadata": {},
   "outputs": [
    {
     "name": "stderr",
     "output_type": "stream",
     "text": [
      "                                                                                \r"
     ]
    }
   ],
   "source": [
    "area_codes = [val.PULocationID for val in areas.select('PULocationID').collect()]"
   ]
  },
  {
   "cell_type": "code",
   "execution_count": 21,
   "id": "88933ac3",
   "metadata": {},
   "outputs": [
    {
     "name": "stderr",
     "output_type": "stream",
     "text": [
      "                                                                                \r"
     ]
    }
   ],
   "source": [
    "areas_avg_fare_amount = [val.Average_fare_Amount for val in areas.select('Average_fare_Amount').collect()]"
   ]
  },
  {
   "cell_type": "code",
   "execution_count": 22,
   "id": "9ddcbf83",
   "metadata": {},
   "outputs": [
    {
     "name": "stderr",
     "output_type": "stream",
     "text": [
      "                                                                                \r"
     ]
    }
   ],
   "source": [
    "areas_avg_trip_distance = [val.Average_Distance_in_Miles for val in areas.select('Average_Distance_in_Miles').collect()]"
   ]
  },
  {
   "cell_type": "code",
   "execution_count": 28,
   "id": "0e4b658c",
   "metadata": {},
   "outputs": [],
   "source": [
    "areas_dic = {\"area_codes\": area_codes, \"avg_trip_time\": areas_avg_trip_time, \"avg_trip_distance\": areas_avg_trip_amount, \n",
    "             \"freq\": areas_freq, \"avg_fare_amount\": areas_avg_fare_amount, \"avg_trip_amount\": areas_avg_trip_amount}\n",
    "areas_df = pd.DataFrame(areas_dic)\n",
    "areas_df\n",
    "areas_df.to_csv(\"../Proj1data/AreaCodeAverages.csv\")"
   ]
  },
  {
   "cell_type": "code",
   "execution_count": 17,
   "id": "514f2f7f",
   "metadata": {},
   "outputs": [],
   "source": [
    "# # # read yellow data\n",
    "# # # jan_yellow = pd.read_csv(\"data/yellow_tripdata_2019-01.csv\")\n",
    "# feb_yellow = pd.read_csv(\"../Proj1data/yellow_tripdata_2019-02.csv\")\n",
    "# mar_yellow = pd.read_csv(\"../Proj1data/yellow_tripdata_2019-03.csv\")\n",
    "# apr_yellow = pd.read_csv(\"../Proj1data/yellow_tripdata_2019-04.csv\")\n",
    "# yellow_pd = pd.concat([feb_yellow, mar_yellow, apr_yellow])"
   ]
  },
  {
   "cell_type": "code",
   "execution_count": 21,
   "id": "4ce5dbec",
   "metadata": {},
   "outputs": [],
   "source": [
    "## SHAPEFILE (from lab 2)\n",
    "import geopandas as gpd\n",
    "\n",
    "# sf stands for shape file\n",
    "sf = gpd.read_file(\"../Proj1data/taxi_zones/taxi_zones.shp\")\n",
    "zone = pd.read_csv(\"../Proj1data/taxi_zones/taxi+_zone_lookup.csv\")\n",
    "\n",
    "# Convert the geometry shaape to to latitude and longitude\n",
    "# Please attribute this if you are using it\n",
    "sf['geometry'] = sf['geometry'].to_crs(\"+proj=longlat +ellps=WGS84 +datum=WGS84 +no_defs\")"
   ]
  },
  {
   "cell_type": "code",
   "execution_count": null,
   "id": "9719ffc7",
   "metadata": {},
   "outputs": [],
   "source": [
    "gdf = gpd.GeoDataFrame(pd.merge(yellow_pd, sf, left_on='PULocationID', right_on='LocationID')).drop('PULocationID',axis=1)\n",
    "gdf.sample(2)"
   ]
  },
  {
   "cell_type": "code",
   "execution_count": null,
   "id": "53658243",
   "metadata": {},
   "outputs": [],
   "source": [
    "geoJSON = gdf[['LocationID','geometry']].drop_duplicates('LocationID').to_json()"
   ]
  },
  {
   "cell_type": "code",
   "execution_count": null,
   "id": "9c1076b3",
   "metadata": {},
   "outputs": [],
   "source": [
    "m = folium.Map(location=[40.66, -73.94], tiles=\"Stamen Terrain\", zoom_start=10)\n",
    "\n",
    "# refer to the folium documentations on how to plot aggregated data.\n",
    "m.add_child(folium.Choropleth(geo_data=geoJSON, name='choropleth'))\n",
    "\n",
    "m.save('plots/foliumChoroplethMap.html')\n",
    "m"
   ]
  },
  {
   "cell_type": "code",
   "execution_count": null,
   "id": "eb4ca48b",
   "metadata": {},
   "outputs": [],
   "source": [
    "m_trip_distance = folium.Map(location=[40.66, -73.94], tiles=\"Stamen Terrain\", zoom_start=10)\n",
    "\n",
    "# refer to the folium documentations on more information on how to plot aggregated data.\n",
    "folium.Choropleth(\n",
    "    geo_data=geoJSON, # geoJSON \n",
    "    name='choropleth', # name of plot\n",
    "    data=gdf, # data source\n",
    "    columns=['LocationID','total_amount'], # the columns required\n",
    "    key_on='properties.LocationID', # this is from the geoJSON's properties\n",
    "    fill_color='OrRd', # color scheme\n",
    "    fill_opacity=0.7,\n",
    "    line_opacity=0.5,\n",
    "    legend_name='Trips' # legend title\n",
    ").add_to(m_trip_distance)\n",
    "\n",
    "m_trip_distance.save('../plots/foliumChoroplethMapTrips.html')\n",
    "m_trip_distance"
   ]
  }
 ],
 "metadata": {
  "kernelspec": {
   "display_name": "Python 3 (ipykernel)",
   "language": "python",
   "name": "python3"
  },
  "language_info": {
   "codemirror_mode": {
    "name": "ipython",
    "version": 3
   },
   "file_extension": ".py",
   "mimetype": "text/x-python",
   "name": "python",
   "nbconvert_exporter": "python",
   "pygments_lexer": "ipython3",
   "version": "3.8.10"
  },
  "varInspector": {
   "cols": {
    "lenName": 16,
    "lenType": 16,
    "lenVar": 40
   },
   "kernels_config": {
    "python": {
     "delete_cmd_postfix": "",
     "delete_cmd_prefix": "del ",
     "library": "var_list.py",
     "varRefreshCmd": "print(var_dic_list())"
    },
    "r": {
     "delete_cmd_postfix": ") ",
     "delete_cmd_prefix": "rm(",
     "library": "var_list.r",
     "varRefreshCmd": "cat(var_dic_list()) "
    }
   },
   "types_to_exclude": [
    "module",
    "function",
    "builtin_function_or_method",
    "instance",
    "_Feature"
   ],
   "window_display": false
  }
 },
 "nbformat": 4,
 "nbformat_minor": 5
}
