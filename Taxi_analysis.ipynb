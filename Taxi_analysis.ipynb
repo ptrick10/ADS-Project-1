{
 "cells": [
  {
   "cell_type": "code",
   "execution_count": 23,
   "id": "3ca8823d",
   "metadata": {},
   "outputs": [],
   "source": []
  },
  {
   "cell_type": "code",
   "execution_count": 1,
   "id": "e5113021",
   "metadata": {},
   "outputs": [
    {
     "name": "stderr",
     "output_type": "stream",
     "text": [
      "21/08/06 18:05:15 WARN Utils: Your hostname, DESKTOP-M8PQ28M resolves to a loopback address: 127.0.1.1; using 192.168.1.114 instead (on interface wifi0)\n",
      "21/08/06 18:05:15 WARN Utils: Set SPARK_LOCAL_IP if you need to bind to another address\n",
      "21/08/06 18:05:16 WARN NativeCodeLoader: Unable to load native-hadoop library for your platform... using builtin-java classes where applicable\n",
      "Using Spark's default log4j profile: org/apache/spark/log4j-defaults.properties\n",
      "Setting default log level to \"WARN\".\n",
      "To adjust logging level use sc.setLogLevel(newLevel). For SparkR, use setLogLevel(newLevel).\n",
      "INFO:SparkMonitorKernel:Client Connected ('127.0.0.1', 52300)\n"
     ]
    }
   ],
   "source": [
    "from pyspark import SparkContext\n",
    "\n",
    "# Start the spark context\n",
    "\n",
    "sc = SparkContext.getOrCreate(conf=swan_spark_conf) "
   ]
  },
  {
   "cell_type": "code",
   "execution_count": 2,
   "id": "96f230ea",
   "metadata": {},
   "outputs": [],
   "source": [
    "'''\n",
    "Project 1\n",
    "'''\n",
    "import pandas as pd\n",
    "import numpy as np\n",
    "import seaborn as sns\n",
    "import matplotlib.pyplot as plt\n",
    "import folium\n",
    "\n",
    "# a nice way of filtering out deprecated warnings\n",
    "import warnings\n",
    "warnings.filterwarnings(\"ignore\")\n",
    "\n",
    "# start a spark session (from spark tutrial)\n",
    "from pyspark.sql import SparkSession\n",
    "import warnings\n",
    "warnings.filterwarnings(\"ignore\")\n",
    "\n",
    "# create a spark session (which will run spark jobs)\n",
    "spark = SparkSession.builder.getOrCreate()\n",
    "\n"
   ]
  },
  {
   "cell_type": "code",
   "execution_count": 36,
   "id": "62bc0dc8",
   "metadata": {},
   "outputs": [],
   "source": []
  },
  {
   "cell_type": "code",
   "execution_count": 3,
   "id": "54f010dd",
   "metadata": {},
   "outputs": [],
   "source": [
    "# make it look nice\n",
    "spark.conf.set('spark.sql.repl.eagerEval.enabled', True)"
   ]
  },
  {
   "cell_type": "code",
   "execution_count": 4,
   "id": "bbbdaf17",
   "metadata": {},
   "outputs": [],
   "source": [
    "# make fast\n",
    "spark.conf.set('spark.sql.execution.arrow.pyspark.enabled', True)"
   ]
  },
  {
   "cell_type": "code",
   "execution_count": 5,
   "id": "982554c7",
   "metadata": {},
   "outputs": [
    {
     "name": "stderr",
     "output_type": "stream",
     "text": [
      "                                                                                \r"
     ]
    }
   ],
   "source": [
    "# schema\n",
    "import pyspark.sql.functions as F\n",
    "from pyspark.sql.types import *\n",
    "from pyspark.sql.functions import col\n",
    "\n",
    "\n",
    "feb_yellow_sdf = spark.read.csv('../Proj1data/yellow_tripdata_2019-02.csv', header=True)\n",
    "\n",
    "ints = ('VendorID', 'passenger_count', 'RatecodeID', 'PULocationID', 'DOLocationID', 'payment_type',)\n",
    "doubles = ('trip_distance', 'fare_amount', 'extra', 'mta_tax', 'tip_amount', 'tolls_amount', \n",
    "           'improvement_surcharge', 'total_amount', 'congestion_surcharge')\n",
    "strings = ('store_and_fwd_flag',)\n",
    "dtimes = ('tpep_pickup_datetime', 'tpep_dropoff_datetime', )\n",
    "\n",
    "dtypes = {column: IntegerType() for column in ints}\n",
    "dtypes.update({column: DoubleType() for column in doubles})\n",
    "dtypes.update({column: StringType() for column in strings})\n",
    "dtypes.update({column: TimestampType() for column in dtimes})\n",
    "schema = StructType()\n",
    "\n",
    "for column in feb_yellow_sdf.columns:\n",
    "    schema.add(column, # column name\n",
    "               dtypes[column], # data type\n",
    "               True # is nullable?\n",
    "              )"
   ]
  },
  {
   "cell_type": "code",
   "execution_count": 6,
   "id": "bc5e2917",
   "metadata": {},
   "outputs": [],
   "source": [
    "# read data staight into spark dataframe\n",
    "feb_yellow_sdf = spark.read.csv('../Proj1data/yellow_tripdata_2019-02.csv', header=True, schema=schema)\n",
    "mar_yellow_sdf = spark.read.csv('../Proj1data/yellow_tripdata_2019-03.csv', header=True, schema=schema)\n",
    "apr_yellow_sdf = spark.read.csv('../Proj1data/yellow_tripdata_2019-04.csv', header=True, schema=schema)\n",
    "\n",
    "# feb_green = spark.read.csv(\"data/green_tripdata_2019-02.csv\", header=True)\n",
    "# mar_green = spark.read.csv(\"data/green_tripdata_2019-03.csv\", header=True)\n",
    "# apr_green = spark.read.csv(\"data/green_tripdata_2019-04.csv\", header=True)\n",
    "\n",
    "# feb_fhv = spark.read.csv(\"data/fhv_tripdata_2019-02.csv\", header=True)\n",
    "# mar_fhv = spark.read.csv(\"data/fhv_tripdata_2019-03.csv\", header=True)\n",
    "# apr_fhv = spark.read.csv(\"data/fhv_tripdata_2019-04.csv\", header=True)\n",
    "\n",
    "# feb_fhvhv = spark.read.csv(\"data/fhvhv_tripdata_2019-02.csv\", header=True)\n",
    "# mar_fhvhv = spark.read.csv(\"data/fhvhv_tripdata_2019-03.csv\", header=True)\n",
    "# apr_fhvhv = spark.read.csv(\"data/fhvhv_tripdata_2019-04.csv\", header=True)"
   ]
  },
  {
   "cell_type": "code",
   "execution_count": 16,
   "id": "365ff647",
   "metadata": {},
   "outputs": [
    {
     "name": "stderr",
     "output_type": "stream",
     "text": [
      "[Stage 16:=======================================>                (17 + 7) / 24]\r"
     ]
    },
    {
     "name": "stdout",
     "output_type": "stream",
     "text": [
      "22285059\n",
      "root\n",
      " |-- VendorID: integer (nullable = true)\n",
      " |-- tpep_pickup_datetime: timestamp (nullable = true)\n",
      " |-- tpep_dropoff_datetime: timestamp (nullable = true)\n",
      " |-- passenger_count: integer (nullable = true)\n",
      " |-- trip_distance: double (nullable = true)\n",
      " |-- RatecodeID: integer (nullable = true)\n",
      " |-- store_and_fwd_flag: string (nullable = true)\n",
      " |-- PULocationID: integer (nullable = true)\n",
      " |-- DOLocationID: integer (nullable = true)\n",
      " |-- payment_type: integer (nullable = true)\n",
      " |-- fare_amount: double (nullable = true)\n",
      " |-- extra: double (nullable = true)\n",
      " |-- mta_tax: double (nullable = true)\n",
      " |-- tip_amount: double (nullable = true)\n",
      " |-- tolls_amount: double (nullable = true)\n",
      " |-- improvement_surcharge: double (nullable = true)\n",
      " |-- total_amount: double (nullable = true)\n",
      " |-- congestion_surcharge: double (nullable = true)\n",
      "\n"
     ]
    },
    {
     "name": "stderr",
     "output_type": "stream",
     "text": [
      "\r",
      "                                                                                \r"
     ]
    }
   ],
   "source": [
    "# combine dataframes\n",
    "yellow_data = feb_yellow_sdf.union(mar_yellow_sdf).union(apr_yellow_sdf)\n",
    "print(yellow_data.count())\n",
    "yellow_data.printSchema()\n",
    "\n",
    "# green_data = feb_green.union(mar_green).union(apr_green)\n",
    "\n",
    "# fhv_data = feb_fhv.union(mar_fhv).union(apr_fhv)\n",
    "\n",
    "# fhvhv_data = feb_fhvhv.union(mar_fhvhv).union(apr_fhvhv)"
   ]
  },
  {
   "cell_type": "code",
   "execution_count": 17,
   "id": "62725ba7",
   "metadata": {},
   "outputs": [
    {
     "data": {
      "text/html": [
       "<table border='1'>\n",
       "<tr><th>VendorID</th><th>tpep_pickup_datetime</th><th>tpep_dropoff_datetime</th><th>passenger_count</th><th>trip_distance</th><th>RatecodeID</th><th>store_and_fwd_flag</th><th>PULocationID</th><th>DOLocationID</th><th>payment_type</th><th>fare_amount</th><th>extra</th><th>mta_tax</th><th>tip_amount</th><th>tolls_amount</th><th>improvement_surcharge</th><th>total_amount</th><th>congestion_surcharge</th></tr>\n",
       "<tr><td>1</td><td>2019-02-01 00:59:04</td><td>2019-02-01 01:07:27</td><td>1</td><td>2.1</td><td>1</td><td>N</td><td>48</td><td>234</td><td>1</td><td>9.0</td><td>0.5</td><td>0.5</td><td>2.0</td><td>0.0</td><td>0.3</td><td>12.3</td><td>0.0</td></tr>\n",
       "<tr><td>1</td><td>2019-02-01 00:33:09</td><td>2019-02-01 01:03:58</td><td>1</td><td>9.8</td><td>1</td><td>N</td><td>230</td><td>93</td><td>2</td><td>32.0</td><td>0.5</td><td>0.5</td><td>0.0</td><td>0.0</td><td>0.3</td><td>33.3</td><td>0.0</td></tr>\n",
       "<tr><td>1</td><td>2019-02-01 00:09:03</td><td>2019-02-01 00:09:16</td><td>1</td><td>0.0</td><td>1</td><td>N</td><td>145</td><td>145</td><td>2</td><td>2.5</td><td>0.5</td><td>0.5</td><td>0.0</td><td>0.0</td><td>0.3</td><td>3.8</td><td>0.0</td></tr>\n",
       "<tr><td>1</td><td>2019-02-01 00:45:38</td><td>2019-02-01 00:51:10</td><td>1</td><td>0.8</td><td>1</td><td>N</td><td>95</td><td>95</td><td>2</td><td>5.5</td><td>0.5</td><td>0.5</td><td>0.0</td><td>0.0</td><td>0.3</td><td>6.8</td><td>0.0</td></tr>\n",
       "<tr><td>1</td><td>2019-02-01 00:25:30</td><td>2019-02-01 00:28:14</td><td>1</td><td>0.8</td><td>1</td><td>N</td><td>140</td><td>263</td><td>2</td><td>5.0</td><td>0.5</td><td>0.5</td><td>0.0</td><td>0.0</td><td>0.3</td><td>6.3</td><td>0.0</td></tr>\n",
       "</table>\n"
      ],
      "text/plain": [
       "+--------+--------------------+---------------------+---------------+-------------+----------+------------------+------------+------------+------------+-----------+-----+-------+----------+------------+---------------------+------------+--------------------+\n",
       "|VendorID|tpep_pickup_datetime|tpep_dropoff_datetime|passenger_count|trip_distance|RatecodeID|store_and_fwd_flag|PULocationID|DOLocationID|payment_type|fare_amount|extra|mta_tax|tip_amount|tolls_amount|improvement_surcharge|total_amount|congestion_surcharge|\n",
       "+--------+--------------------+---------------------+---------------+-------------+----------+------------------+------------+------------+------------+-----------+-----+-------+----------+------------+---------------------+------------+--------------------+\n",
       "|       1| 2019-02-01 00:59:04|  2019-02-01 01:07:27|              1|          2.1|         1|                 N|          48|         234|           1|        9.0|  0.5|    0.5|       2.0|         0.0|                  0.3|        12.3|                 0.0|\n",
       "|       1| 2019-02-01 00:33:09|  2019-02-01 01:03:58|              1|          9.8|         1|                 N|         230|          93|           2|       32.0|  0.5|    0.5|       0.0|         0.0|                  0.3|        33.3|                 0.0|\n",
       "|       1| 2019-02-01 00:09:03|  2019-02-01 00:09:16|              1|          0.0|         1|                 N|         145|         145|           2|        2.5|  0.5|    0.5|       0.0|         0.0|                  0.3|         3.8|                 0.0|\n",
       "|       1| 2019-02-01 00:45:38|  2019-02-01 00:51:10|              1|          0.8|         1|                 N|          95|          95|           2|        5.5|  0.5|    0.5|       0.0|         0.0|                  0.3|         6.8|                 0.0|\n",
       "|       1| 2019-02-01 00:25:30|  2019-02-01 00:28:14|              1|          0.8|         1|                 N|         140|         263|           2|        5.0|  0.5|    0.5|       0.0|         0.0|                  0.3|         6.3|                 0.0|\n",
       "+--------+--------------------+---------------------+---------------+-------------+----------+------------------+------------+------------+------------+-----------+-----+-------+----------+------------+---------------------+------------+--------------------+"
      ]
     },
     "execution_count": 17,
     "metadata": {},
     "output_type": "execute_result"
    }
   ],
   "source": [
    "feb_yellow_sdf.limit(5)"
   ]
  },
  {
   "cell_type": "code",
   "execution_count": 18,
   "id": "4c504924",
   "metadata": {},
   "outputs": [
    {
     "data": {
      "text/plain": [
       "<bound method DataFrame.summary of +--------+--------------------+---------------------+---------------+-------------+----------+------------------+------------+------------+------------+-----------+-----+-------+----------+------------+---------------------+------------+--------------------+\n",
       "|VendorID|tpep_pickup_datetime|tpep_dropoff_datetime|passenger_count|trip_distance|RatecodeID|store_and_fwd_flag|PULocationID|DOLocationID|payment_type|fare_amount|extra|mta_tax|tip_amount|tolls_amount|improvement_surcharge|total_amount|congestion_surcharge|\n",
       "+--------+--------------------+---------------------+---------------+-------------+----------+------------------+------------+------------+------------+-----------+-----+-------+----------+------------+---------------------+------------+--------------------+\n",
       "|       1| 2019-02-01 00:59:04|  2019-02-01 01:07:27|              1|          2.1|         1|                 N|          48|         234|           1|        9.0|  0.5|    0.5|       2.0|         0.0|                  0.3|        12.3|                 0.0|\n",
       "|       1| 2019-02-01 00:33:09|  2019-02-01 01:03:58|              1|          9.8|         1|                 N|         230|          93|           2|       32.0|  0.5|    0.5|       0.0|         0.0|                  0.3|        33.3|                 0.0|\n",
       "|       1| 2019-02-01 00:09:03|  2019-02-01 00:09:16|              1|          0.0|         1|                 N|         145|         145|           2|        2.5|  0.5|    0.5|       0.0|         0.0|                  0.3|         3.8|                 0.0|\n",
       "|       1| 2019-02-01 00:45:38|  2019-02-01 00:51:10|              1|          0.8|         1|                 N|          95|          95|           2|        5.5|  0.5|    0.5|       0.0|         0.0|                  0.3|         6.8|                 0.0|\n",
       "|       1| 2019-02-01 00:25:30|  2019-02-01 00:28:14|              1|          0.8|         1|                 N|         140|         263|           2|        5.0|  0.5|    0.5|       0.0|         0.0|                  0.3|         6.3|                 0.0|\n",
       "|       1| 2019-02-01 00:38:02|  2019-02-01 00:40:57|              1|          0.8|         1|                 N|         229|         141|           2|        4.5|  0.5|    0.5|       0.0|         0.0|                  0.3|         5.8|                 0.0|\n",
       "|       1| 2019-02-01 00:06:49|  2019-02-01 00:10:34|              1|          0.9|         1|                 N|          75|          41|           2|        5.0|  0.5|    0.5|       0.0|         0.0|                  0.3|         6.3|                 0.0|\n",
       "|       1| 2019-02-01 00:04:04|  2019-02-01 00:24:27|              1|          2.8|         1|                 N|         246|         229|           2|       14.0|  0.5|    0.5|       0.0|         0.0|                  0.3|        15.3|                 0.0|\n",
       "|       1| 2019-02-01 00:28:20|  2019-02-01 00:40:31|              1|          2.1|         1|                 N|          79|         232|           2|       10.5|  0.5|    0.5|       0.0|         0.0|                  0.3|        11.8|                 0.0|\n",
       "|       2| 2019-01-31 23:16:28|  2019-01-31 23:19:11|              1|         0.49|         1|                 N|         170|         234|           1|        4.0|  0.5|    0.5|       1.7|         0.0|                  0.3|         7.0|                 0.0|\n",
       "|       2| 2019-01-31 23:28:02|  2019-01-31 23:36:34|              1|         1.61|         1|                 N|         107|         161|           1|        8.0|  0.5|    0.5|      2.32|         0.0|                  0.3|       11.62|                 0.0|\n",
       "|       2| 2019-01-31 23:55:34|  2019-02-01 00:03:58|              1|          1.5|         1|                 N|         107|         148|           1|        7.5|  0.5|    0.5|      1.76|         0.0|                  0.3|       10.56|                 0.0|\n",
       "|       1| 2019-02-01 00:15:53|  2019-02-01 00:25:41|              2|          1.8|         1|                 N|          68|         246|           1|        9.0|  0.5|    0.5|      2.05|         0.0|                  0.3|       12.35|                 0.0|\n",
       "|       1| 2019-02-01 00:28:54|  2019-02-01 00:33:51|              1|          0.8|         1|                 N|         246|          68|           1|        5.5|  0.5|    0.5|       2.0|         0.0|                  0.3|         8.8|                 0.0|\n",
       "|       1| 2019-02-01 00:21:20|  2019-02-01 00:25:13|              1|          0.4|         1|                 N|         161|         162|           2|        4.5|  0.5|    0.5|       0.0|         0.0|                  0.3|         5.8|                 0.0|\n",
       "|       2| 2019-01-31 23:58:23|  2019-02-01 00:22:45|              1|         4.43|         1|                 N|         161|         249|           1|       18.5|  0.5|    0.5|      4.95|         0.0|                  0.3|       24.75|                 0.0|\n",
       "|       1| 2019-02-01 00:43:11|  2019-02-01 00:48:33|              1|          1.0|         1|                 N|         144|         232|           2|        6.0|  0.5|    0.5|       0.0|         0.0|                  0.3|         7.3|                 0.0|\n",
       "|       1| 2019-02-01 00:15:39|  2019-02-01 00:32:28|              1|          9.0|         1|                 N|         185|         166|           1|       26.0|  0.5|    0.5|       7.5|         0.0|                  0.3|        34.8|                 0.0|\n",
       "|       1| 2019-02-01 00:08:17|  2019-02-01 00:16:56|              1|          1.8|         1|                 N|         163|         239|           1|        8.5|  0.5|    0.5|      1.95|         0.0|                  0.3|       11.75|                 0.0|\n",
       "|       1| 2019-02-01 00:29:15|  2019-02-01 00:51:04|              1|         10.3|         1|                 N|         161|          18|           1|       30.0|  0.5|    0.5|       3.0|         0.0|                  0.3|        34.3|                 0.0|\n",
       "+--------+--------------------+---------------------+---------------+-------------+----------+------------------+------------+------------+------------+-----------+-----+-------+----------+------------+---------------------+------------+--------------------+\n",
       "only showing top 20 rows\n",
       ">"
      ]
     },
     "execution_count": 18,
     "metadata": {},
     "output_type": "execute_result"
    }
   ],
   "source": [
    "# DECRIPTIVE \n",
    "# sql describe\n",
    "# import pyspark.sql.functions as F\n",
    "\n",
    "# from pyspark.sql.functions import col\n",
    "# from pyspark.sql.types import *\n",
    "\n",
    "yellow_data.summary"
   ]
  },
  {
   "cell_type": "code",
   "execution_count": 19,
   "id": "c7e4f31a",
   "metadata": {},
   "outputs": [
    {
     "name": "stderr",
     "output_type": "stream",
     "text": [
      "                                                                                \r"
     ]
    },
    {
     "name": "stdout",
     "output_type": "stream",
     "text": [
      "1113847\n"
     ]
    },
    {
     "name": "stderr",
     "output_type": "stream",
     "text": [
      "                                                                                \r"
     ]
    }
   ],
   "source": [
    "\n",
    "# want to somehow sample the data.\n",
    "sample = yellow_data.sample(0.05, seed=50)\n",
    "print(sample.count())\n",
    "sample.limit(5)\n",
    "\n",
    "\n",
    "y = [val.total_amount for val in sample.select('total_amount').collect()]\n",
    "x_ts = [val.trip_distance for val in sample.select('trip_distance').collect()]\n",
    "\n"
   ]
  },
  {
   "cell_type": "code",
   "execution_count": 20,
   "id": "2ddff69c",
   "metadata": {},
   "outputs": [
    {
     "data": {
      "text/plain": [
       "'\\nFrom the scatterplot we can see what data we may want to get rid of.\\n - free trips\\n - 0 > trip > 100km\\n - 0 > cost > 600\\n - payment type must be crash or credit (1 or 2)\\n - \\nData seems to follow a linear relationship, however variance increases slightly as trip distance increases.\\n'"
      ]
     },
     "execution_count": 20,
     "metadata": {},
     "output_type": "execute_result"
    },
    {
     "data": {
      "image/png": "[encoded data removed]",
      "text/plain": [
       "<Figure size 432x288 with 1 Axes>"
      ]
     },
     "metadata": {
      "needs_background": "light"
     },
     "output_type": "display_data"
    }
   ],
   "source": [
    "# plot the sample\n",
    "plt.title('Sample Trip Distance vs Total Amount Before Filtering')\n",
    "plt.scatter(x_ts, y)\n",
    "plt.xlabel('Trip Distance (miles)')\n",
    "plt.ylabel('Total Amount')\n",
    "plt.savefig('Plots/Trip Distance vs Total Amount Before Filtering.png')\n",
    "\n",
    "\n",
    "'''\n",
    "From the scatterplot we can see what data we may want to get rid of.\n",
    " - free trips\n",
    " - 0 > trip > 100km\n",
    " - 0 > cost > 600\n",
    " - payment type must be crash or credit (1 or 2)\n",
    " - \n",
    "Data seems to follow a linear relationship, however variance increases slightly as trip distance increases.\n",
    "'''\n",
    "\n",
    "\n"
   ]
  },
  {
   "cell_type": "code",
   "execution_count": 21,
   "id": "51f204ee",
   "metadata": {},
   "outputs": [
    {
     "name": "stderr",
     "output_type": "stream",
     "text": [
      "                                                                                \r"
     ]
    },
    {
     "data": {
      "image/png": "[encoded data removed]",
      "text/plain": [
       "<Figure size 432x288 with 1 Axes>"
      ]
     },
     "metadata": {
      "needs_background": "light"
     },
     "output_type": "display_data"
    }
   ],
   "source": [
    "# lets also plot fare amount\n",
    "y = [val.fare_amount for val in sample.select('fare_amount').collect()]\n",
    "x_ts = [val.trip_distance for val in sample.select('trip_distance').collect()]\n",
    "\n",
    "plt.title('Sample Trip Distance vs Fare Amount Before Filtering')\n",
    "plt.scatter(x_ts, y)\n",
    "plt.xlabel('Trip Distance (miles)')\n",
    "plt.ylabel('Fare Amount')\n",
    "plt.savefig('Plots/Trip Distance vs Fare Amount Before Filtering.png')"
   ]
  },
  {
   "cell_type": "code",
   "execution_count": 22,
   "id": "b4884c1c",
   "metadata": {},
   "outputs": [
    {
     "name": "stderr",
     "output_type": "stream",
     "text": [
      "                                                                                \r"
     ]
    },
    {
     "data": {
      "text/plain": [
       "21886837"
      ]
     },
     "execution_count": 22,
     "metadata": {},
     "output_type": "execute_result"
    }
   ],
   "source": [
    "# filter data using filter\n",
    "yellow_data = yellow_data.filter(yellow_data.fare_amount > 0) \n",
    "yellow_data = yellow_data.filter(yellow_data.fare_amount < 600)\n",
    "yellow_data = yellow_data.filter(yellow_data.trip_distance > 0)\n",
    "yellow_data = yellow_data.filter(yellow_data.trip_distance < 100)\n",
    "yellow_data = yellow_data.filter(yellow_data.payment_type != 3)\n",
    "yellow_data = yellow_data.filter(yellow_data.payment_type != 4)\n",
    "yellow_data = yellow_data.filter(yellow_data.payment_type != 5)\n",
    "yellow_data = yellow_data.filter(yellow_data.payment_type != 6)\n",
    "yellow_data = yellow_data.filter(yellow_data.RatecodeID != 5)\n",
    "\n",
    "\n",
    "yellow_data.count()\n",
    "                                 "
   ]
  },
  {
   "cell_type": "code",
   "execution_count": 23,
   "id": "188596f6",
   "metadata": {},
   "outputs": [
    {
     "name": "stderr",
     "output_type": "stream",
     "text": [
      "                                                                                \r"
     ]
    },
    {
     "name": "stdout",
     "output_type": "stream",
     "text": [
      "1093708\n"
     ]
    },
    {
     "data": {
      "text/html": [
       "<table border='1'>\n",
       "<tr><th>VendorID</th><th>tpep_pickup_datetime</th><th>tpep_dropoff_datetime</th><th>passenger_count</th><th>trip_distance</th><th>RatecodeID</th><th>store_and_fwd_flag</th><th>PULocationID</th><th>DOLocationID</th><th>payment_type</th><th>fare_amount</th><th>extra</th><th>mta_tax</th><th>tip_amount</th><th>tolls_amount</th><th>improvement_surcharge</th><th>total_amount</th><th>congestion_surcharge</th></tr>\n",
       "<tr><td>1</td><td>2019-02-01 00:45:38</td><td>2019-02-01 00:51:10</td><td>1</td><td>0.8</td><td>1</td><td>N</td><td>95</td><td>95</td><td>2</td><td>5.5</td><td>0.5</td><td>0.5</td><td>0.0</td><td>0.0</td><td>0.3</td><td>6.8</td><td>0.0</td></tr>\n",
       "<tr><td>1</td><td>2019-02-01 00:43:11</td><td>2019-02-01 00:48:33</td><td>1</td><td>1.0</td><td>1</td><td>N</td><td>144</td><td>232</td><td>2</td><td>6.0</td><td>0.5</td><td>0.5</td><td>0.0</td><td>0.0</td><td>0.3</td><td>7.3</td><td>0.0</td></tr>\n",
       "<tr><td>2</td><td>2019-02-01 00:30:04</td><td>2019-02-01 00:55:15</td><td>1</td><td>9.28</td><td>1</td><td>N</td><td>170</td><td>244</td><td>2</td><td>29.0</td><td>0.5</td><td>0.5</td><td>0.0</td><td>0.0</td><td>0.3</td><td>30.3</td><td>0.0</td></tr>\n",
       "<tr><td>1</td><td>2019-02-01 00:48:54</td><td>2019-02-01 01:10:53</td><td>1</td><td>4.6</td><td>1</td><td>N</td><td>264</td><td>264</td><td>1</td><td>19.0</td><td>0.5</td><td>0.5</td><td>4.05</td><td>0.0</td><td>0.3</td><td>24.35</td><td>0.0</td></tr>\n",
       "<tr><td>1</td><td>2019-02-01 00:55:51</td><td>2019-02-01 01:02:32</td><td>1</td><td>1.2</td><td>1</td><td>N</td><td>80</td><td>80</td><td>1</td><td>6.5</td><td>0.5</td><td>0.5</td><td>1.55</td><td>0.0</td><td>0.3</td><td>9.35</td><td>0.0</td></tr>\n",
       "</table>\n"
      ],
      "text/plain": [
       "+--------+--------------------+---------------------+---------------+-------------+----------+------------------+------------+------------+------------+-----------+-----+-------+----------+------------+---------------------+------------+--------------------+\n",
       "|VendorID|tpep_pickup_datetime|tpep_dropoff_datetime|passenger_count|trip_distance|RatecodeID|store_and_fwd_flag|PULocationID|DOLocationID|payment_type|fare_amount|extra|mta_tax|tip_amount|tolls_amount|improvement_surcharge|total_amount|congestion_surcharge|\n",
       "+--------+--------------------+---------------------+---------------+-------------+----------+------------------+------------+------------+------------+-----------+-----+-------+----------+------------+---------------------+------------+--------------------+\n",
       "|       1| 2019-02-01 00:45:38|  2019-02-01 00:51:10|              1|          0.8|         1|                 N|          95|          95|           2|        5.5|  0.5|    0.5|       0.0|         0.0|                  0.3|         6.8|                 0.0|\n",
       "|       1| 2019-02-01 00:43:11|  2019-02-01 00:48:33|              1|          1.0|         1|                 N|         144|         232|           2|        6.0|  0.5|    0.5|       0.0|         0.0|                  0.3|         7.3|                 0.0|\n",
       "|       2| 2019-02-01 00:30:04|  2019-02-01 00:55:15|              1|         9.28|         1|                 N|         170|         244|           2|       29.0|  0.5|    0.5|       0.0|         0.0|                  0.3|        30.3|                 0.0|\n",
       "|       1| 2019-02-01 00:48:54|  2019-02-01 01:10:53|              1|          4.6|         1|                 N|         264|         264|           1|       19.0|  0.5|    0.5|      4.05|         0.0|                  0.3|       24.35|                 0.0|\n",
       "|       1| 2019-02-01 00:55:51|  2019-02-01 01:02:32|              1|          1.2|         1|                 N|          80|          80|           1|        6.5|  0.5|    0.5|      1.55|         0.0|                  0.3|        9.35|                 0.0|\n",
       "+--------+--------------------+---------------------+---------------+-------------+----------+------------------+------------+------------+------------+-----------+-----+-------+----------+------------+---------------------+------------+--------------------+"
      ]
     },
     "execution_count": 23,
     "metadata": {},
     "output_type": "execute_result"
    }
   ],
   "source": [
    "# lets plot another sample to see the difference\n",
    "sample = yellow_data.sample(0.05, seed=50)\n",
    "print(sample.count())\n",
    "sample.limit(5)"
   ]
  },
  {
   "cell_type": "code",
   "execution_count": 24,
   "id": "9d04c024",
   "metadata": {},
   "outputs": [
    {
     "name": "stderr",
     "output_type": "stream",
     "text": [
      "                                                                                \r"
     ]
    },
    {
     "data": {
      "text/plain": [
       "'\\nAfter researching, the JFK fare is just $52.\\nThe standard fare is \"Plus 50 cents per 1/5 mile when traveling above 12mph or per 60 seconds in slow traffic or when the vehicle is stopped.\"\\n\\n\\n'"
      ]
     },
     "execution_count": 24,
     "metadata": {},
     "output_type": "execute_result"
    },
    {
     "data": {
      "image/png": "[encoded data removed]",
      "text/plain": [
       "<Figure size 432x288 with 1 Axes>"
      ]
     },
     "metadata": {
      "needs_background": "light"
     },
     "output_type": "display_data"
    }
   ],
   "source": [
    "y = [val.fare_amount for val in sample.select('fare_amount').collect()]\n",
    "x_ts = [val.trip_distance for val in sample.select('trip_distance').collect()]\n",
    "\n",
    "plt.scatter(x_ts, y)\n",
    "plt.title('Sample Trip Distance vs Fare Amount After Filtering')\n",
    "plt.xlabel('Trip Distance (miles)')\n",
    "plt.ylabel('Fare Amount')\n",
    "plt.savefig('Plots/Trip Distance vs Fare Amount After Filtering.png')\n",
    "\n",
    "'''\n",
    "still seems to be many trips around $50, and many trips around $0\n",
    "There also seems to be a line around y=x/5\n",
    "'''\n",
    "'''\n",
    "After researching, the JFK fare is just $52.\n",
    "The standard fare is \"Plus 50 cents per 1/5 mile when traveling above 12mph or per 60 seconds in slow traffic or when the vehicle is stopped.\"\n",
    "\n",
    "'''"
   ]
  },
  {
   "cell_type": "code",
   "execution_count": 57,
   "id": "e4c47915",
   "metadata": {},
   "outputs": [
    {
     "name": "stderr",
     "output_type": "stream",
     "text": [
      "\r",
      "[Stage 84:==============================================>         (20 + 4) / 24]\r",
      "\r",
      "                                                                                \r"
     ]
    },
    {
     "data": {
      "text/html": [
       "<table border='1'>\n",
       "<tr><th>VendorID</th><th>tpep_pickup_datetime</th><th>tpep_dropoff_datetime</th><th>passenger_count</th><th>trip_distance</th><th>RatecodeID</th><th>store_and_fwd_flag</th><th>PULocationID</th><th>DOLocationID</th><th>payment_type</th><th>fare_amount</th><th>extra</th><th>mta_tax</th><th>tip_amount</th><th>tolls_amount</th><th>improvement_surcharge</th><th>total_amount</th><th>congestion_surcharge</th></tr>\n",
       "<tr><td>2</td><td>2019-02-01 00:25:02</td><td>2019-02-01 00:49:28</td><td>1</td><td>17.46</td><td>2</td><td>N</td><td>132</td><td>161</td><td>2</td><td>52.0</td><td>0.0</td><td>0.5</td><td>0.0</td><td>5.76</td><td>0.3</td><td>58.56</td><td>0.0</td></tr>\n",
       "<tr><td>2</td><td>2019-02-01 00:47:50</td><td>2019-02-01 01:23:37</td><td>2</td><td>21.77</td><td>2</td><td>N</td><td>132</td><td>261</td><td>1</td><td>52.0</td><td>0.0</td><td>0.5</td><td>10.56</td><td>0.0</td><td>0.3</td><td>63.36</td><td>0.0</td></tr>\n",
       "<tr><td>1</td><td>2019-02-01 00:34:43</td><td>2019-02-01 00:45:00</td><td>1</td><td>2.0</td><td>2</td><td>N</td><td>141</td><td>50</td><td>1</td><td>52.0</td><td>0.0</td><td>0.5</td><td>5.0</td><td>0.0</td><td>0.3</td><td>57.8</td><td>0.0</td></tr>\n",
       "<tr><td>2</td><td>2019-02-01 00:37:45</td><td>2019-02-01 01:13:46</td><td>1</td><td>19.64</td><td>2</td><td>N</td><td>132</td><td>142</td><td>1</td><td>52.0</td><td>0.0</td><td>0.5</td><td>11.71</td><td>5.76</td><td>0.3</td><td>70.27</td><td>0.0</td></tr>\n",
       "<tr><td>2</td><td>2019-01-31 20:43:34</td><td>2019-02-01 20:12:10</td><td>1</td><td>20.74</td><td>2</td><td>N</td><td>132</td><td>140</td><td>1</td><td>52.0</td><td>0.0</td><td>0.5</td><td>11.71</td><td>5.76</td><td>0.3</td><td>70.27</td><td>0.0</td></tr>\n",
       "</table>\n"
      ],
      "text/plain": [
       "+--------+--------------------+---------------------+---------------+-------------+----------+------------------+------------+------------+------------+-----------+-----+-------+----------+------------+---------------------+------------+--------------------+\n",
       "|VendorID|tpep_pickup_datetime|tpep_dropoff_datetime|passenger_count|trip_distance|RatecodeID|store_and_fwd_flag|PULocationID|DOLocationID|payment_type|fare_amount|extra|mta_tax|tip_amount|tolls_amount|improvement_surcharge|total_amount|congestion_surcharge|\n",
       "+--------+--------------------+---------------------+---------------+-------------+----------+------------------+------------+------------+------------+-----------+-----+-------+----------+------------+---------------------+------------+--------------------+\n",
       "|       2| 2019-02-01 00:25:02|  2019-02-01 00:49:28|              1|        17.46|         2|                 N|         132|         161|           2|       52.0|  0.0|    0.5|       0.0|        5.76|                  0.3|       58.56|                 0.0|\n",
       "|       2| 2019-02-01 00:47:50|  2019-02-01 01:23:37|              2|        21.77|         2|                 N|         132|         261|           1|       52.0|  0.0|    0.5|     10.56|         0.0|                  0.3|       63.36|                 0.0|\n",
       "|       1| 2019-02-01 00:34:43|  2019-02-01 00:45:00|              1|          2.0|         2|                 N|         141|          50|           1|       52.0|  0.0|    0.5|       5.0|         0.0|                  0.3|        57.8|                 0.0|\n",
       "|       2| 2019-02-01 00:37:45|  2019-02-01 01:13:46|              1|        19.64|         2|                 N|         132|         142|           1|       52.0|  0.0|    0.5|     11.71|        5.76|                  0.3|       70.27|                 0.0|\n",
       "|       2| 2019-01-31 20:43:34|  2019-02-01 20:12:10|              1|        20.74|         2|                 N|         132|         140|           1|       52.0|  0.0|    0.5|     11.71|        5.76|                  0.3|       70.27|                 0.0|\n",
       "+--------+--------------------+---------------------+---------------+-------------+----------+------------------+------------+------------+------------+-----------+-----+-------+----------+------------+---------------------+------------+--------------------+"
      ]
     },
     "execution_count": 57,
     "metadata": {},
     "output_type": "execute_result"
    }
   ],
   "source": [
    "# Can see when rate code ID = 2 (JFK) that the fare amount is frequently $52\n",
    "yellow_data.filter(yellow_data.RatecodeID == 2).limit(5)"
   ]
  },
  {
   "cell_type": "code",
   "execution_count": 23,
   "id": "b6f139b1",
   "metadata": {},
   "outputs": [],
   "source": [
    "## SQL, get rid of some of the data\n",
    "yellow_data.createOrReplaceTempView(\"taxi_data\")"
   ]
  },
  {
   "cell_type": "code",
   "execution_count": 9,
   "id": "514f2f7f",
   "metadata": {},
   "outputs": [
    {
     "ename": "KeyboardInterrupt",
     "evalue": "",
     "output_type": "error",
     "traceback": [
      "\u001b[0;31m---------------------------------------------------------------------------\u001b[0m",
      "\u001b[0;31mKeyboardInterrupt\u001b[0m                         Traceback (most recent call last)",
      "\u001b[0;32m/tmp/ipykernel_7574/2703970549.py\u001b[0m in \u001b[0;36m<module>\u001b[0;34m\u001b[0m\n\u001b[1;32m      1\u001b[0m \u001b[0;31m# # read yellow data\u001b[0m\u001b[0;34m\u001b[0m\u001b[0;34m\u001b[0m\u001b[0;34m\u001b[0m\u001b[0m\n\u001b[1;32m      2\u001b[0m \u001b[0;31m# # jan_yellow = pd.read_csv(\"data/yellow_tripdata_2019-01.csv\")\u001b[0m\u001b[0;34m\u001b[0m\u001b[0;34m\u001b[0m\u001b[0;34m\u001b[0m\u001b[0m\n\u001b[0;32m----> 3\u001b[0;31m \u001b[0mfeb_yellow\u001b[0m \u001b[0;34m=\u001b[0m \u001b[0mpd\u001b[0m\u001b[0;34m.\u001b[0m\u001b[0mread_csv\u001b[0m\u001b[0;34m(\u001b[0m\u001b[0;34m\"data/yellow_tripdata_2019-02.csv\"\u001b[0m\u001b[0;34m)\u001b[0m\u001b[0;34m\u001b[0m\u001b[0;34m\u001b[0m\u001b[0m\n\u001b[0m\u001b[1;32m      4\u001b[0m \u001b[0mmar_yellow\u001b[0m \u001b[0;34m=\u001b[0m \u001b[0mpd\u001b[0m\u001b[0;34m.\u001b[0m\u001b[0mread_csv\u001b[0m\u001b[0;34m(\u001b[0m\u001b[0;34m\"data/yellow_tripdata_2019-03.csv\"\u001b[0m\u001b[0;34m)\u001b[0m\u001b[0;34m\u001b[0m\u001b[0;34m\u001b[0m\u001b[0m\n\u001b[1;32m      5\u001b[0m \u001b[0mapr_yellow\u001b[0m \u001b[0;34m=\u001b[0m \u001b[0mpd\u001b[0m\u001b[0;34m.\u001b[0m\u001b[0mread_csv\u001b[0m\u001b[0;34m(\u001b[0m\u001b[0;34m\"data/yellow_tripdata_2019-04.csv\"\u001b[0m\u001b[0;34m)\u001b[0m\u001b[0;34m\u001b[0m\u001b[0;34m\u001b[0m\u001b[0m\n",
      "\u001b[0;32m~/.local/lib/python3.8/site-packages/pandas/util/_decorators.py\u001b[0m in \u001b[0;36mwrapper\u001b[0;34m(*args, **kwargs)\u001b[0m\n\u001b[1;32m    309\u001b[0m                     \u001b[0mstacklevel\u001b[0m\u001b[0;34m=\u001b[0m\u001b[0mstacklevel\u001b[0m\u001b[0;34m,\u001b[0m\u001b[0;34m\u001b[0m\u001b[0;34m\u001b[0m\u001b[0m\n\u001b[1;32m    310\u001b[0m                 )\n\u001b[0;32m--> 311\u001b[0;31m             \u001b[0;32mreturn\u001b[0m \u001b[0mfunc\u001b[0m\u001b[0;34m(\u001b[0m\u001b[0;34m*\u001b[0m\u001b[0margs\u001b[0m\u001b[0;34m,\u001b[0m \u001b[0;34m**\u001b[0m\u001b[0mkwargs\u001b[0m\u001b[0;34m)\u001b[0m\u001b[0;34m\u001b[0m\u001b[0;34m\u001b[0m\u001b[0m\n\u001b[0m\u001b[1;32m    312\u001b[0m \u001b[0;34m\u001b[0m\u001b[0m\n\u001b[1;32m    313\u001b[0m         \u001b[0;32mreturn\u001b[0m \u001b[0mwrapper\u001b[0m\u001b[0;34m\u001b[0m\u001b[0;34m\u001b[0m\u001b[0m\n",
      "\u001b[0;32m~/.local/lib/python3.8/site-packages/pandas/io/parsers/readers.py\u001b[0m in \u001b[0;36mread_csv\u001b[0;34m(filepath_or_buffer, sep, delimiter, header, names, index_col, usecols, squeeze, prefix, mangle_dupe_cols, dtype, engine, converters, true_values, false_values, skipinitialspace, skiprows, skipfooter, nrows, na_values, keep_default_na, na_filter, verbose, skip_blank_lines, parse_dates, infer_datetime_format, keep_date_col, date_parser, dayfirst, cache_dates, iterator, chunksize, compression, thousands, decimal, lineterminator, quotechar, quoting, doublequote, escapechar, comment, encoding, encoding_errors, dialect, error_bad_lines, warn_bad_lines, on_bad_lines, delim_whitespace, low_memory, memory_map, float_precision, storage_options)\u001b[0m\n\u001b[1;32m    584\u001b[0m     \u001b[0mkwds\u001b[0m\u001b[0;34m.\u001b[0m\u001b[0mupdate\u001b[0m\u001b[0;34m(\u001b[0m\u001b[0mkwds_defaults\u001b[0m\u001b[0;34m)\u001b[0m\u001b[0;34m\u001b[0m\u001b[0;34m\u001b[0m\u001b[0m\n\u001b[1;32m    585\u001b[0m \u001b[0;34m\u001b[0m\u001b[0m\n\u001b[0;32m--> 586\u001b[0;31m     \u001b[0;32mreturn\u001b[0m \u001b[0m_read\u001b[0m\u001b[0;34m(\u001b[0m\u001b[0mfilepath_or_buffer\u001b[0m\u001b[0;34m,\u001b[0m \u001b[0mkwds\u001b[0m\u001b[0;34m)\u001b[0m\u001b[0;34m\u001b[0m\u001b[0;34m\u001b[0m\u001b[0m\n\u001b[0m\u001b[1;32m    587\u001b[0m \u001b[0;34m\u001b[0m\u001b[0m\n\u001b[1;32m    588\u001b[0m \u001b[0;34m\u001b[0m\u001b[0m\n",
      "\u001b[0;32m~/.local/lib/python3.8/site-packages/pandas/io/parsers/readers.py\u001b[0m in \u001b[0;36m_read\u001b[0;34m(filepath_or_buffer, kwds)\u001b[0m\n\u001b[1;32m    486\u001b[0m \u001b[0;34m\u001b[0m\u001b[0m\n\u001b[1;32m    487\u001b[0m     \u001b[0;32mwith\u001b[0m \u001b[0mparser\u001b[0m\u001b[0;34m:\u001b[0m\u001b[0;34m\u001b[0m\u001b[0;34m\u001b[0m\u001b[0m\n\u001b[0;32m--> 488\u001b[0;31m         \u001b[0;32mreturn\u001b[0m \u001b[0mparser\u001b[0m\u001b[0;34m.\u001b[0m\u001b[0mread\u001b[0m\u001b[0;34m(\u001b[0m\u001b[0mnrows\u001b[0m\u001b[0;34m)\u001b[0m\u001b[0;34m\u001b[0m\u001b[0;34m\u001b[0m\u001b[0m\n\u001b[0m\u001b[1;32m    489\u001b[0m \u001b[0;34m\u001b[0m\u001b[0m\n\u001b[1;32m    490\u001b[0m \u001b[0;34m\u001b[0m\u001b[0m\n",
      "\u001b[0;32m~/.local/lib/python3.8/site-packages/pandas/io/parsers/readers.py\u001b[0m in \u001b[0;36mread\u001b[0;34m(self, nrows)\u001b[0m\n\u001b[1;32m   1045\u001b[0m     \u001b[0;32mdef\u001b[0m \u001b[0mread\u001b[0m\u001b[0;34m(\u001b[0m\u001b[0mself\u001b[0m\u001b[0;34m,\u001b[0m \u001b[0mnrows\u001b[0m\u001b[0;34m=\u001b[0m\u001b[0;32mNone\u001b[0m\u001b[0;34m)\u001b[0m\u001b[0;34m:\u001b[0m\u001b[0;34m\u001b[0m\u001b[0;34m\u001b[0m\u001b[0m\n\u001b[1;32m   1046\u001b[0m         \u001b[0mnrows\u001b[0m \u001b[0;34m=\u001b[0m \u001b[0mvalidate_integer\u001b[0m\u001b[0;34m(\u001b[0m\u001b[0;34m\"nrows\"\u001b[0m\u001b[0;34m,\u001b[0m \u001b[0mnrows\u001b[0m\u001b[0;34m)\u001b[0m\u001b[0;34m\u001b[0m\u001b[0;34m\u001b[0m\u001b[0m\n\u001b[0;32m-> 1047\u001b[0;31m         \u001b[0mindex\u001b[0m\u001b[0;34m,\u001b[0m \u001b[0mcolumns\u001b[0m\u001b[0;34m,\u001b[0m \u001b[0mcol_dict\u001b[0m \u001b[0;34m=\u001b[0m \u001b[0mself\u001b[0m\u001b[0;34m.\u001b[0m\u001b[0m_engine\u001b[0m\u001b[0;34m.\u001b[0m\u001b[0mread\u001b[0m\u001b[0;34m(\u001b[0m\u001b[0mnrows\u001b[0m\u001b[0;34m)\u001b[0m\u001b[0;34m\u001b[0m\u001b[0;34m\u001b[0m\u001b[0m\n\u001b[0m\u001b[1;32m   1048\u001b[0m \u001b[0;34m\u001b[0m\u001b[0m\n\u001b[1;32m   1049\u001b[0m         \u001b[0;32mif\u001b[0m \u001b[0mindex\u001b[0m \u001b[0;32mis\u001b[0m \u001b[0;32mNone\u001b[0m\u001b[0;34m:\u001b[0m\u001b[0;34m\u001b[0m\u001b[0;34m\u001b[0m\u001b[0m\n",
      "\u001b[0;32m~/.local/lib/python3.8/site-packages/pandas/io/parsers/c_parser_wrapper.py\u001b[0m in \u001b[0;36mread\u001b[0;34m(self, nrows)\u001b[0m\n\u001b[1;32m    221\u001b[0m         \u001b[0;32mtry\u001b[0m\u001b[0;34m:\u001b[0m\u001b[0;34m\u001b[0m\u001b[0;34m\u001b[0m\u001b[0m\n\u001b[1;32m    222\u001b[0m             \u001b[0;32mif\u001b[0m \u001b[0mself\u001b[0m\u001b[0;34m.\u001b[0m\u001b[0mlow_memory\u001b[0m\u001b[0;34m:\u001b[0m\u001b[0;34m\u001b[0m\u001b[0;34m\u001b[0m\u001b[0m\n\u001b[0;32m--> 223\u001b[0;31m                 \u001b[0mchunks\u001b[0m \u001b[0;34m=\u001b[0m \u001b[0mself\u001b[0m\u001b[0;34m.\u001b[0m\u001b[0m_reader\u001b[0m\u001b[0;34m.\u001b[0m\u001b[0mread_low_memory\u001b[0m\u001b[0;34m(\u001b[0m\u001b[0mnrows\u001b[0m\u001b[0;34m)\u001b[0m\u001b[0;34m\u001b[0m\u001b[0;34m\u001b[0m\u001b[0m\n\u001b[0m\u001b[1;32m    224\u001b[0m                 \u001b[0;31m# destructive to chunks\u001b[0m\u001b[0;34m\u001b[0m\u001b[0;34m\u001b[0m\u001b[0;34m\u001b[0m\u001b[0m\n\u001b[1;32m    225\u001b[0m                 \u001b[0mdata\u001b[0m \u001b[0;34m=\u001b[0m \u001b[0m_concatenate_chunks\u001b[0m\u001b[0;34m(\u001b[0m\u001b[0mchunks\u001b[0m\u001b[0;34m)\u001b[0m\u001b[0;34m\u001b[0m\u001b[0;34m\u001b[0m\u001b[0m\n",
      "\u001b[0;32m~/.local/lib/python3.8/site-packages/pandas/_libs/parsers.pyx\u001b[0m in \u001b[0;36mpandas._libs.parsers.TextReader.read_low_memory\u001b[0;34m()\u001b[0m\n",
      "\u001b[0;32m~/.local/lib/python3.8/site-packages/pandas/_libs/parsers.pyx\u001b[0m in \u001b[0;36mpandas._libs.parsers.TextReader._read_rows\u001b[0;34m()\u001b[0m\n",
      "\u001b[0;32m~/.local/lib/python3.8/site-packages/pandas/_libs/parsers.pyx\u001b[0m in \u001b[0;36mpandas._libs.parsers.TextReader._convert_column_data\u001b[0;34m()\u001b[0m\n",
      "\u001b[0;32m~/.local/lib/python3.8/site-packages/pandas/_libs/parsers.pyx\u001b[0m in \u001b[0;36mpandas._libs.parsers.TextReader._convert_tokens\u001b[0;34m()\u001b[0m\n",
      "\u001b[0;32m~/.local/lib/python3.8/site-packages/pandas/_libs/parsers.pyx\u001b[0m in \u001b[0;36mpandas._libs.parsers.TextReader._convert_with_dtype\u001b[0;34m()\u001b[0m\n",
      "\u001b[0;32m~/.local/lib/python3.8/site-packages/pandas/core/dtypes/common.py\u001b[0m in \u001b[0;36mis_extension_array_dtype\u001b[0;34m(arr_or_dtype)\u001b[0m\n\u001b[1;32m   1418\u001b[0m \u001b[0;34m\u001b[0m\u001b[0m\n\u001b[1;32m   1419\u001b[0m \u001b[0;34m\u001b[0m\u001b[0m\n\u001b[0;32m-> 1420\u001b[0;31m \u001b[0;32mdef\u001b[0m \u001b[0mis_extension_array_dtype\u001b[0m\u001b[0;34m(\u001b[0m\u001b[0marr_or_dtype\u001b[0m\u001b[0;34m)\u001b[0m \u001b[0;34m->\u001b[0m \u001b[0mbool\u001b[0m\u001b[0;34m:\u001b[0m\u001b[0;34m\u001b[0m\u001b[0;34m\u001b[0m\u001b[0m\n\u001b[0m\u001b[1;32m   1421\u001b[0m     \"\"\"\n\u001b[1;32m   1422\u001b[0m     \u001b[0mCheck\u001b[0m \u001b[0;32mif\u001b[0m \u001b[0man\u001b[0m \u001b[0mobject\u001b[0m \u001b[0;32mis\u001b[0m \u001b[0ma\u001b[0m \u001b[0mpandas\u001b[0m \u001b[0mextension\u001b[0m \u001b[0marray\u001b[0m \u001b[0mtype\u001b[0m\u001b[0;34m.\u001b[0m\u001b[0;34m\u001b[0m\u001b[0;34m\u001b[0m\u001b[0m\n",
      "\u001b[0;31mKeyboardInterrupt\u001b[0m: "
     ]
    }
   ],
   "source": [
    "# # read yellow data\n",
    "# # jan_yellow = pd.read_csv(\"data/yellow_tripdata_2019-01.csv\")\n",
    "feb_yellow = pd.read_csv(\"../Proj1data/yellow_tripdata_2019-02.csv\")\n",
    "mar_yellow = pd.read_csv(\"../Proj1data/yellow_tripdata_2019-03.csv\")\n",
    "apr_yellow = pd.read_csv(\"../Proj1data/yellow_tripdata_2019-04.csv\")\n",
    "\n",
    "\n",
    "\n"
   ]
  },
  {
   "cell_type": "code",
   "execution_count": null,
   "id": "178c6723",
   "metadata": {},
   "outputs": [],
   "source": [
    "yellow_pd = pd.concat([feb_yellow, mar_yellow, apr_yellow])"
   ]
  },
  {
   "cell_type": "code",
   "execution_count": 5,
   "id": "8d0d87d8",
   "metadata": {},
   "outputs": [],
   "source": []
  },
  {
   "cell_type": "code",
   "execution_count": 6,
   "id": "da1d6b79",
   "metadata": {},
   "outputs": [],
   "source": [
    "\n"
   ]
  },
  {
   "cell_type": "code",
   "execution_count": 7,
   "id": "9b41c6c6",
   "metadata": {},
   "outputs": [],
   "source": []
  },
  {
   "cell_type": "code",
   "execution_count": 18,
   "id": "6bc3acb5",
   "metadata": {},
   "outputs": [
    {
     "data": {
      "text/html": [
       "<div>\n",
       "<style scoped>\n",
       "    .dataframe tbody tr th:only-of-type {\n",
       "        vertical-align: middle;\n",
       "    }\n",
       "\n",
       "    .dataframe tbody tr th {\n",
       "        vertical-align: top;\n",
       "    }\n",
       "\n",
       "    .dataframe thead th {\n",
       "        text-align: right;\n",
       "    }\n",
       "</style>\n",
       "<table border=\"1\" class=\"dataframe\">\n",
       "  <thead>\n",
       "    <tr style=\"text-align: right;\">\n",
       "      <th></th>\n",
       "      <th>VendorID</th>\n",
       "      <th>tpep_pickup_datetime</th>\n",
       "      <th>tpep_dropoff_datetime</th>\n",
       "      <th>passenger_count</th>\n",
       "      <th>trip_distance</th>\n",
       "      <th>RatecodeID</th>\n",
       "      <th>store_and_fwd_flag</th>\n",
       "      <th>PULocationID</th>\n",
       "      <th>DOLocationID</th>\n",
       "      <th>payment_type</th>\n",
       "      <th>fare_amount</th>\n",
       "      <th>extra</th>\n",
       "      <th>mta_tax</th>\n",
       "      <th>tip_amount</th>\n",
       "      <th>tolls_amount</th>\n",
       "      <th>improvement_surcharge</th>\n",
       "      <th>total_amount</th>\n",
       "      <th>congestion_surcharge</th>\n",
       "    </tr>\n",
       "  </thead>\n",
       "  <tbody>\n",
       "    <tr>\n",
       "      <th>7019370</th>\n",
       "      <td>2</td>\n",
       "      <td>2019-02-28 23:29:08</td>\n",
       "      <td>2019-02-28 23:29:11</td>\n",
       "      <td>1</td>\n",
       "      <td>0.0</td>\n",
       "      <td>1</td>\n",
       "      <td>N</td>\n",
       "      <td>193</td>\n",
       "      <td>193</td>\n",
       "      <td>1</td>\n",
       "      <td>0.0</td>\n",
       "      <td>0.0</td>\n",
       "      <td>0.0</td>\n",
       "      <td>0.0</td>\n",
       "      <td>0.0</td>\n",
       "      <td>0.0</td>\n",
       "      <td>0.0</td>\n",
       "      <td>0.0</td>\n",
       "    </tr>\n",
       "    <tr>\n",
       "      <th>7019371</th>\n",
       "      <td>2</td>\n",
       "      <td>2019-02-28 22:48:47</td>\n",
       "      <td>2019-02-28 23:50:19</td>\n",
       "      <td>1</td>\n",
       "      <td>0.0</td>\n",
       "      <td>1</td>\n",
       "      <td>N</td>\n",
       "      <td>141</td>\n",
       "      <td>193</td>\n",
       "      <td>2</td>\n",
       "      <td>0.0</td>\n",
       "      <td>0.0</td>\n",
       "      <td>0.0</td>\n",
       "      <td>0.0</td>\n",
       "      <td>0.0</td>\n",
       "      <td>0.0</td>\n",
       "      <td>0.0</td>\n",
       "      <td>2.5</td>\n",
       "    </tr>\n",
       "    <tr>\n",
       "      <th>7019372</th>\n",
       "      <td>2</td>\n",
       "      <td>2019-02-28 23:41:23</td>\n",
       "      <td>2019-02-28 23:42:23</td>\n",
       "      <td>1</td>\n",
       "      <td>0.0</td>\n",
       "      <td>1</td>\n",
       "      <td>N</td>\n",
       "      <td>264</td>\n",
       "      <td>264</td>\n",
       "      <td>1</td>\n",
       "      <td>0.0</td>\n",
       "      <td>0.0</td>\n",
       "      <td>0.0</td>\n",
       "      <td>0.0</td>\n",
       "      <td>0.0</td>\n",
       "      <td>0.0</td>\n",
       "      <td>0.0</td>\n",
       "      <td>0.0</td>\n",
       "    </tr>\n",
       "    <tr>\n",
       "      <th>7019373</th>\n",
       "      <td>2</td>\n",
       "      <td>2019-02-28 23:12:52</td>\n",
       "      <td>2019-02-28 23:14:16</td>\n",
       "      <td>1</td>\n",
       "      <td>0.0</td>\n",
       "      <td>1</td>\n",
       "      <td>N</td>\n",
       "      <td>264</td>\n",
       "      <td>193</td>\n",
       "      <td>1</td>\n",
       "      <td>0.0</td>\n",
       "      <td>0.0</td>\n",
       "      <td>0.0</td>\n",
       "      <td>0.0</td>\n",
       "      <td>0.0</td>\n",
       "      <td>0.0</td>\n",
       "      <td>0.0</td>\n",
       "      <td>0.0</td>\n",
       "    </tr>\n",
       "    <tr>\n",
       "      <th>7019374</th>\n",
       "      <td>2</td>\n",
       "      <td>2019-02-28 23:10:35</td>\n",
       "      <td>2019-02-28 23:10:37</td>\n",
       "      <td>1</td>\n",
       "      <td>0.0</td>\n",
       "      <td>1</td>\n",
       "      <td>N</td>\n",
       "      <td>264</td>\n",
       "      <td>264</td>\n",
       "      <td>2</td>\n",
       "      <td>0.0</td>\n",
       "      <td>0.0</td>\n",
       "      <td>0.0</td>\n",
       "      <td>0.0</td>\n",
       "      <td>0.0</td>\n",
       "      <td>0.0</td>\n",
       "      <td>0.0</td>\n",
       "      <td>0.0</td>\n",
       "    </tr>\n",
       "  </tbody>\n",
       "</table>\n",
       "</div>"
      ],
      "text/plain": [
       "         VendorID tpep_pickup_datetime tpep_dropoff_datetime  passenger_count  \\\n",
       "7019370         2  2019-02-28 23:29:08   2019-02-28 23:29:11                1   \n",
       "7019371         2  2019-02-28 22:48:47   2019-02-28 23:50:19                1   \n",
       "7019372         2  2019-02-28 23:41:23   2019-02-28 23:42:23                1   \n",
       "7019373         2  2019-02-28 23:12:52   2019-02-28 23:14:16                1   \n",
       "7019374         2  2019-02-28 23:10:35   2019-02-28 23:10:37                1   \n",
       "\n",
       "         trip_distance  RatecodeID store_and_fwd_flag  PULocationID  \\\n",
       "7019370            0.0           1                  N           193   \n",
       "7019371            0.0           1                  N           141   \n",
       "7019372            0.0           1                  N           264   \n",
       "7019373            0.0           1                  N           264   \n",
       "7019374            0.0           1                  N           264   \n",
       "\n",
       "         DOLocationID  payment_type  fare_amount  extra  mta_tax  tip_amount  \\\n",
       "7019370           193             1          0.0    0.0      0.0         0.0   \n",
       "7019371           193             2          0.0    0.0      0.0         0.0   \n",
       "7019372           264             1          0.0    0.0      0.0         0.0   \n",
       "7019373           193             1          0.0    0.0      0.0         0.0   \n",
       "7019374           264             2          0.0    0.0      0.0         0.0   \n",
       "\n",
       "         tolls_amount  improvement_surcharge  total_amount  \\\n",
       "7019370           0.0                    0.0           0.0   \n",
       "7019371           0.0                    0.0           0.0   \n",
       "7019372           0.0                    0.0           0.0   \n",
       "7019373           0.0                    0.0           0.0   \n",
       "7019374           0.0                    0.0           0.0   \n",
       "\n",
       "         congestion_surcharge  \n",
       "7019370                   0.0  \n",
       "7019371                   2.5  \n",
       "7019372                   0.0  \n",
       "7019373                   0.0  \n",
       "7019374                   0.0  "
      ]
     },
     "execution_count": 18,
     "metadata": {},
     "output_type": "execute_result"
    }
   ],
   "source": [
    "feb_yellow.tail()"
   ]
  },
  {
   "cell_type": "code",
   "execution_count": null,
   "id": "3ef8c106",
   "metadata": {},
   "outputs": [],
   "source": []
  },
  {
   "cell_type": "code",
   "execution_count": null,
   "id": "ca2fe671",
   "metadata": {},
   "outputs": [],
   "source": []
  },
  {
   "cell_type": "code",
   "execution_count": null,
   "id": "2e9f0448",
   "metadata": {},
   "outputs": [],
   "source": [
    "\n"
   ]
  },
  {
   "cell_type": "code",
   "execution_count": null,
   "id": "782775a7",
   "metadata": {},
   "outputs": [],
   "source": []
  },
  {
   "cell_type": "code",
   "execution_count": null,
   "id": "74d9ff11",
   "metadata": {},
   "outputs": [],
   "source": []
  },
  {
   "cell_type": "code",
   "execution_count": null,
   "id": "bac66b75",
   "metadata": {},
   "outputs": [],
   "source": [
    "# check sizes\n",
    "print(feb_yellow.shape)\n",
    "print(mar_yellow.shape)\n",
    "print(apr_yellow.shape)\n"
   ]
  },
  {
   "cell_type": "code",
   "execution_count": 11,
   "id": "3ae63ff3",
   "metadata": {},
   "outputs": [],
   "source": [
    "# # check columns\n",
    "# print(feb_yellow.columns)\n",
    "\n",
    "# print(feb_green.columns)\n",
    "\n",
    "# print(feb_fhv.columns)\n",
    "\n",
    "# print(feb_fhvhv.columns)\n"
   ]
  },
  {
   "cell_type": "code",
   "execution_count": 12,
   "id": "93490412",
   "metadata": {},
   "outputs": [],
   "source": [
    "# feb_yellow.dtypes"
   ]
  },
  {
   "cell_type": "code",
   "execution_count": null,
   "id": "a5c1a3d3",
   "metadata": {},
   "outputs": [],
   "source": []
  },
  {
   "cell_type": "code",
   "execution_count": null,
   "id": "ddb2359a",
   "metadata": {},
   "outputs": [],
   "source": []
  },
  {
   "cell_type": "code",
   "execution_count": null,
   "id": "f9571240",
   "metadata": {},
   "outputs": [],
   "source": []
  },
  {
   "cell_type": "code",
   "execution_count": 21,
   "id": "4ce5dbec",
   "metadata": {},
   "outputs": [],
   "source": [
    "## SHAPEFILE (from lab 2)\n",
    "import geopandas as gpd\n",
    "\n",
    "# sf stands for shape file\n",
    "sf = gpd.read_file(\"../Proj1data/taxi_zones/taxi_zones.shp\")\n",
    "zone = pd.read_csv(\"../Proj1data/taxi_zones/taxi+_zone_lookup.csv\")\n",
    "\n",
    "# Convert the geometry shaape to to latitude and longitude\n",
    "# Please attribute this if you are using it\n",
    "sf['geometry'] = sf['geometry'].to_crs(\"+proj=longlat +ellps=WGS84 +datum=WGS84 +no_defs\")"
   ]
  },
  {
   "cell_type": "code",
   "execution_count": null,
   "id": "9719ffc7",
   "metadata": {},
   "outputs": [],
   "source": [
    "gdf = gpd.GeoDataFrame(pd.merge(yellow_pd, sf, left_on='PULocationID', right_on='LocationID')).drop('PULocationID',axis=1)\n",
    "gdf.sample(2)"
   ]
  },
  {
   "cell_type": "code",
   "execution_count": null,
   "id": "53658243",
   "metadata": {},
   "outputs": [],
   "source": [
    "geoJSON = gdf[['LocationID','geometry']].drop_duplicates('LocationID').to_json()"
   ]
  },
  {
   "cell_type": "code",
   "execution_count": null,
   "id": "9c1076b3",
   "metadata": {},
   "outputs": [],
   "source": [
    "m = folium.Map(location=[40.66, -73.94], tiles=\"Stamen Terrain\", zoom_start=10)\n",
    "\n",
    "# refer to the folium documentations on how to plot aggregated data.\n",
    "m.add_child(folium.Choropleth(geo_data=geoJSON, name='choropleth'))\n",
    "\n",
    "m.save('plots/foliumChoroplethMap.html')\n",
    "m"
   ]
  },
  {
   "cell_type": "code",
   "execution_count": null,
   "id": "eb4ca48b",
   "metadata": {},
   "outputs": [],
   "source": [
    "m_trip_distance = folium.Map(location=[40.66, -73.94], tiles=\"Stamen Terrain\", zoom_start=10)\n",
    "\n",
    "# refer to the folium documentations on more information on how to plot aggregated data.\n",
    "folium.Choropleth(\n",
    "    geo_data=geoJSON, # geoJSON \n",
    "    name='choropleth', # name of plot\n",
    "    data=gdf, # data source\n",
    "    columns=['LocationID','total_amount'], # the columns required\n",
    "    key_on='properties.LocationID', # this is from the geoJSON's properties\n",
    "    fill_color='OrRd', # color scheme\n",
    "    fill_opacity=0.7,\n",
    "    line_opacity=0.5,\n",
    "    legend_name='Trips' # legend title\n",
    ").add_to(m_trip_distance)\n",
    "\n",
    "m_trip_distance.save('../plots/foliumChoroplethMapTrips.html')\n",
    "m_trip_distance"
   ]
  },
  {
   "cell_type": "code",
   "execution_count": null,
   "id": "ac77d6b9",
   "metadata": {},
   "outputs": [],
   "source": []
  },
  {
   "cell_type": "code",
   "execution_count": null,
   "id": "2502be13",
   "metadata": {},
   "outputs": [],
   "source": []
  }
 ],
 "metadata": {
  "kernelspec": {
   "display_name": "Python 3 (ipykernel)",
   "language": "python",
   "name": "python3"
  },
  "language_info": {
   "codemirror_mode": {
    "name": "ipython",
    "version": 3
   },
   "file_extension": ".py",
   "mimetype": "text/x-python",
   "name": "python",
   "nbconvert_exporter": "python",
   "pygments_lexer": "ipython3",
   "version": "3.8.10"
  },
  "varInspector": {
   "cols": {
    "lenName": 16,
    "lenType": 16,
    "lenVar": 40
   },
   "kernels_config": {
    "python": {
     "delete_cmd_postfix": "",
     "delete_cmd_prefix": "del ",
     "library": "var_list.py",
     "varRefreshCmd": "print(var_dic_list())"
    },
    "r": {
     "delete_cmd_postfix": ") ",
     "delete_cmd_prefix": "rm(",
     "library": "var_list.r",
     "varRefreshCmd": "cat(var_dic_list()) "
    }
   },
   "types_to_exclude": [
    "module",
    "function",
    "builtin_function_or_method",
    "instance",
    "_Feature"
   ],
   "window_display": false
  }
 },
 "nbformat": 4,
 "nbformat_minor": 5
}
