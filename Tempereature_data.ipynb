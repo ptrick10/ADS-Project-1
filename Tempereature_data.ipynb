{
 "cells": [
  {
   "cell_type": "code",
   "execution_count": 1,
   "id": "89348618",
   "metadata": {},
   "outputs": [],
   "source": [
    "'''\n",
    "Author: Patrick Butcher\n",
    "Last Edited: 16/08/2021\n",
    "'''\n",
    "## weather data\n",
    "\n",
    "import requests\n",
    "\n",
    "import pandas as pd\n",
    "\n",
    "#convert the response as a strcuctured json\n",
    "import json\n",
    "\n",
    "#mathematical operations on lists\n",
    "import numpy as np\n",
    "\n",
    "#parse the datetimes we get from NOAA\n",
    "from datetime import datetime\n",
    "\n",
    "#add the access token you got from NOAA\n",
    "Token = 'bacUICQsoVqktUhNjgCcQJOGDDrnsXYU'\n",
    "\n",
    "#Long Beach Airport station\n",
    "station_id = 'GHCND:USW00094728'"
   ]
  },
  {
   "cell_type": "code",
   "execution_count": 3,
   "id": "bb0894e3",
   "metadata": {},
   "outputs": [
    {
     "name": "stdout",
     "output_type": "stream",
     "text": [
      "working on year 2019\n"
     ]
    }
   ],
   "source": [
    "'''\n",
    "Author: ritvikmath\n",
    "Accessed: 10/08/2021\n",
    "Edited by: Patrick Butcher\n",
    "https://gist.github.com/ritvikmath/17ec1916a33c41898631b11d666fe988#file-get_weather_data-py\n",
    "'''\n",
    "\n",
    "#initialize lists to store data\n",
    "dates_temp = []\n",
    "dates_prcp = []\n",
    "temps = []\n",
    "prcp = []\n",
    "\n",
    "year = str(2019)\n",
    "print('working on year '+year)\n",
    "    \n",
    "#make the api call\n",
    "r = requests.get('https://www.ncdc.noaa.gov/cdo-web/api/v2/data?datasetid=GHCND&datatypeid=TMAX&limit=1000&stationid=GHCND:USW00094728&startdate='+year+'-01-01&enddate='+year+'-12-31', headers={'token':'bacUICQsoVqktUhNjgCcQJOGDDrnsXYU'})\n",
    "#load the api response as a json\n",
    "d = json.loads(r.text)\n",
    "#get all items in the response which are average temperature readings\n",
    "avg_temps = [item for item in d['results'] if item['datatype']=='TMAX']\n",
    "#get the date field from all average temperature readings\n",
    "dates_temp += [item['date'] for item in avg_temps]\n",
    "#get the actual average temperature from all average temperature readings\n",
    "temps += [item['value'] for item in avg_temps]"
   ]
  },
  {
   "cell_type": "code",
   "execution_count": 4,
   "id": "14044a86",
   "metadata": {},
   "outputs": [],
   "source": [
    "'''\n",
    "Author: ritvikmath\n",
    "Accessed: 10/08/2021\n",
    "Edited by: Patrick Butcher\n",
    "https://gist.github.com/ritvikmath/17ec1916a33c41898631b11d666fe988#file-get_weather_data-py\n",
    "'''\n",
    "#initialize dataframe\n",
    "df_temp = pd.DataFrame()\n",
    "\n",
    "#populate date and average temperature fields (cast string date to datetime and convert temperature from tenths of Celsius to Fahrenheit)\n",
    "df_temp['date'] = [datetime.strptime(d, \"%Y-%m-%dT%H:%M:%S\") for d in dates_temp]\n",
    "df_temp['maxTemp'] = [float(v)/10.0*1.8 + 32 for v in temps]"
   ]
  },
  {
   "cell_type": "code",
   "execution_count": 5,
   "id": "718b9240",
   "metadata": {},
   "outputs": [
    {
     "data": {
      "text/html": [
       "<div>\n",
       "<style scoped>\n",
       "    .dataframe tbody tr th:only-of-type {\n",
       "        vertical-align: middle;\n",
       "    }\n",
       "\n",
       "    .dataframe tbody tr th {\n",
       "        vertical-align: top;\n",
       "    }\n",
       "\n",
       "    .dataframe thead th {\n",
       "        text-align: right;\n",
       "    }\n",
       "</style>\n",
       "<table border=\"1\" class=\"dataframe\">\n",
       "  <thead>\n",
       "    <tr style=\"text-align: right;\">\n",
       "      <th></th>\n",
       "      <th>date</th>\n",
       "      <th>maxTemp</th>\n",
       "    </tr>\n",
       "  </thead>\n",
       "  <tbody>\n",
       "    <tr>\n",
       "      <th>0</th>\n",
       "      <td>2019-01-01</td>\n",
       "      <td>57.92</td>\n",
       "    </tr>\n",
       "    <tr>\n",
       "      <th>1</th>\n",
       "      <td>2019-01-02</td>\n",
       "      <td>39.92</td>\n",
       "    </tr>\n",
       "    <tr>\n",
       "      <th>2</th>\n",
       "      <td>2019-01-03</td>\n",
       "      <td>44.06</td>\n",
       "    </tr>\n",
       "    <tr>\n",
       "      <th>3</th>\n",
       "      <td>2019-01-04</td>\n",
       "      <td>46.94</td>\n",
       "    </tr>\n",
       "    <tr>\n",
       "      <th>4</th>\n",
       "      <td>2019-01-05</td>\n",
       "      <td>46.94</td>\n",
       "    </tr>\n",
       "  </tbody>\n",
       "</table>\n",
       "</div>"
      ],
      "text/plain": [
       "        date  maxTemp\n",
       "0 2019-01-01    57.92\n",
       "1 2019-01-02    39.92\n",
       "2 2019-01-03    44.06\n",
       "3 2019-01-04    46.94\n",
       "4 2019-01-05    46.94"
      ]
     },
     "execution_count": 5,
     "metadata": {},
     "output_type": "execute_result"
    }
   ],
   "source": [
    "df_temp.head()"
   ]
  },
  {
   "cell_type": "code",
   "execution_count": 7,
   "id": "bd2318b4",
   "metadata": {},
   "outputs": [],
   "source": [
    "df_temp.to_csv('../Proj1data/maxTemperaturesNYC.csv', index = False)"
   ]
  },
  {
   "cell_type": "code",
   "execution_count": 2,
   "id": "65220b3c",
   "metadata": {},
   "outputs": [
    {
     "name": "stdout",
     "output_type": "stream",
     "text": [
      "working on year 2020\n"
     ]
    }
   ],
   "source": [
    "## Do the same for 2020 test data\n",
    "#initialize lists to store data\n",
    "dates_temp = []\n",
    "dates_prcp = []\n",
    "temps = []\n",
    "prcp = []\n",
    "\n",
    "year = str(2020)\n",
    "print('working on year '+ year)\n",
    "    \n",
    "#make the api call\n",
    "r = requests.get('https://www.ncdc.noaa.gov/cdo-web/api/v2/data?datasetid=GHCND&datatypeid=TMAX&limit=1000&stationid=GHCND:USW00094728&startdate='+year+'-01-01&enddate='+year+'-12-31', headers={'token':'bacUICQsoVqktUhNjgCcQJOGDDrnsXYU'})\n",
    "#load the api response as a json\n",
    "d = json.loads(r.text)\n",
    "#get all items in the response which are average temperature readings\n",
    "avg_temps = [item for item in d['results'] if item['datatype']=='TMAX']\n",
    "#get the date field from all average temperature readings\n",
    "dates_temp += [item['date'] for item in avg_temps]\n",
    "#get the actual average temperature from all average temperature readings\n",
    "temps += [item['value'] for item in avg_temps]"
   ]
  },
  {
   "cell_type": "code",
   "execution_count": 3,
   "id": "c7a7c155",
   "metadata": {},
   "outputs": [],
   "source": [
    "\n",
    "#initialize dataframe\n",
    "df_temp_2020 = pd.DataFrame()\n",
    "\n",
    "#populate date and average temperature fields (cast string date to datetime and convert temperature from tenths of Celsius to Fahrenheit)\n",
    "df_temp_2020['date'] = [datetime.strptime(d, \"%Y-%m-%dT%H:%M:%S\") for d in dates_temp]\n",
    "df_temp_2020['maxTemp'] = [float(v)/10.0*1.8 + 32 for v in temps]"
   ]
  },
  {
   "cell_type": "code",
   "execution_count": 4,
   "id": "8a8d61c7",
   "metadata": {},
   "outputs": [
    {
     "data": {
      "text/html": [
       "<div>\n",
       "<style scoped>\n",
       "    .dataframe tbody tr th:only-of-type {\n",
       "        vertical-align: middle;\n",
       "    }\n",
       "\n",
       "    .dataframe tbody tr th {\n",
       "        vertical-align: top;\n",
       "    }\n",
       "\n",
       "    .dataframe thead th {\n",
       "        text-align: right;\n",
       "    }\n",
       "</style>\n",
       "<table border=\"1\" class=\"dataframe\">\n",
       "  <thead>\n",
       "    <tr style=\"text-align: right;\">\n",
       "      <th></th>\n",
       "      <th>date</th>\n",
       "      <th>maxTemp</th>\n",
       "    </tr>\n",
       "  </thead>\n",
       "  <tbody>\n",
       "    <tr>\n",
       "      <th>0</th>\n",
       "      <td>2020-01-01</td>\n",
       "      <td>41.00</td>\n",
       "    </tr>\n",
       "    <tr>\n",
       "      <th>1</th>\n",
       "      <td>2020-01-02</td>\n",
       "      <td>48.92</td>\n",
       "    </tr>\n",
       "    <tr>\n",
       "      <th>2</th>\n",
       "      <td>2020-01-03</td>\n",
       "      <td>48.92</td>\n",
       "    </tr>\n",
       "    <tr>\n",
       "      <th>3</th>\n",
       "      <td>2020-01-04</td>\n",
       "      <td>51.08</td>\n",
       "    </tr>\n",
       "    <tr>\n",
       "      <th>4</th>\n",
       "      <td>2020-01-05</td>\n",
       "      <td>42.08</td>\n",
       "    </tr>\n",
       "  </tbody>\n",
       "</table>\n",
       "</div>"
      ],
      "text/plain": [
       "        date  maxTemp\n",
       "0 2020-01-01    41.00\n",
       "1 2020-01-02    48.92\n",
       "2 2020-01-03    48.92\n",
       "3 2020-01-04    51.08\n",
       "4 2020-01-05    42.08"
      ]
     },
     "execution_count": 4,
     "metadata": {},
     "output_type": "execute_result"
    }
   ],
   "source": [
    "df_temp_2020.head()"
   ]
  },
  {
   "cell_type": "code",
   "execution_count": 5,
   "id": "88a3da88",
   "metadata": {},
   "outputs": [],
   "source": [
    "df_temp_2020.to_csv('../Proj1data/maxTemperaturesNYC2020.csv', index = False)"
   ]
  }
 ],
 "metadata": {
  "kernelspec": {
   "display_name": "Python 3 (ipykernel)",
   "language": "python",
   "name": "python3"
  },
  "language_info": {
   "codemirror_mode": {
    "name": "ipython",
    "version": 3
   },
   "file_extension": ".py",
   "mimetype": "text/x-python",
   "name": "python",
   "nbconvert_exporter": "python",
   "pygments_lexer": "ipython3",
   "version": "3.8.10"
  },
  "varInspector": {
   "cols": {
    "lenName": 16,
    "lenType": 16,
    "lenVar": 40
   },
   "kernels_config": {
    "python": {
     "delete_cmd_postfix": "",
     "delete_cmd_prefix": "del ",
     "library": "var_list.py",
     "varRefreshCmd": "print(var_dic_list())"
    },
    "r": {
     "delete_cmd_postfix": ") ",
     "delete_cmd_prefix": "rm(",
     "library": "var_list.r",
     "varRefreshCmd": "cat(var_dic_list()) "
    }
   },
   "types_to_exclude": [
    "module",
    "function",
    "builtin_function_or_method",
    "instance",
    "_Feature"
   ],
   "window_display": false
  }
 },
 "nbformat": 4,
 "nbformat_minor": 5
}
