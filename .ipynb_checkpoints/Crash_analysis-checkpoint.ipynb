{
 "cells": [
  {
   "cell_type": "code",
   "execution_count": 1,
   "id": "7aaf3cdf",
   "metadata": {},
   "outputs": [],
   "source": [
    "# preprocess external dataset\n",
    "import pandas as pd\n",
    "import numpy as np\n",
    "import seaborn as sns\n",
    "import matplotlib.pyplot as plt\n",
    "import folium"
   ]
  },
  {
   "cell_type": "code",
   "execution_count": 2,
   "id": "be3b4785",
   "metadata": {},
   "outputs": [],
   "source": [
    "crash_data = pd.read_csv(\"data/crash_data.csv\")"
   ]
  },
  {
   "cell_type": "code",
   "execution_count": 3,
   "id": "a3316f63",
   "metadata": {},
   "outputs": [
    {
     "name": "stdout",
     "output_type": "stream",
     "text": [
      "Sedan                                  22781\n",
      "Station Wagon/Sport Utility Vehicle    19142\n",
      "Taxi                                    2494\n",
      "Pick-up Truck                           1475\n",
      "Box Truck                                974\n",
      "                                       ...  \n",
      "REFG                                       1\n",
      "Bulk Agriculture                           1\n",
      "Hrse                                       1\n",
      "Snow                                       1\n",
      "COMMU                                      1\n",
      "Name: VEHICLE TYPE CODE 1, Length: 176, dtype: int64\n",
      "Sedan                                  16869\n",
      "Station Wagon/Sport Utility Vehicle    14950\n",
      "Taxi                                    1844\n",
      "Pick-up Truck                           1439\n",
      "Box Truck                               1150\n",
      "                                       ...  \n",
      "NYC F                                      1\n",
      "tract                                      1\n",
      "SEMI                                       1\n",
      "Jeep                                       1\n",
      "Vanette                                    1\n",
      "Name: VEHICLE TYPE CODE 2, Length: 188, dtype: int64\n",
      "Sedan                                  1629\n",
      "Station Wagon/Sport Utility Vehicle    1272\n",
      "Taxi                                     91\n",
      "Pick-up Truck                            74\n",
      "Box Truck                                27\n",
      "Bus                                      17\n",
      "Tractor Truck Diesel                     13\n",
      "Van                                      12\n",
      "Bike                                      9\n",
      "Convertible                               5\n",
      "Tow Truck / Wrecker                       4\n",
      "Flat Bed                                  3\n",
      "Ambulance                                 3\n",
      "Stake or Rack                             2\n",
      "Motorcycle                                2\n",
      "Tractor Truck Gasoline                    2\n",
      "AMBUL                                     2\n",
      "Garbage or Refuse                         2\n",
      "TRAIL                                     1\n",
      "TRUCK                                     1\n",
      "van                                       1\n",
      "DIRT-                                     1\n",
      "Multi-Wheeled Vehicle                     1\n",
      "Motorscooter                              1\n",
      "Dump                                      1\n",
      "PK                                        1\n",
      "Moped                                     1\n",
      "38AB-                                     1\n",
      "ambul                                     1\n",
      "scoot                                     1\n",
      "Name: VEHICLE TYPE CODE 3, dtype: int64\n"
     ]
    }
   ],
   "source": [
    "print(crash_data['VEHICLE TYPE CODE 1'].value_counts())\n",
    "print(crash_data['VEHICLE TYPE CODE 2'].value_counts())\n",
    "print(crash_data['VEHICLE TYPE CODE 3'].value_counts())"
   ]
  },
  {
   "cell_type": "code",
   "execution_count": 4,
   "id": "cce34e77",
   "metadata": {},
   "outputs": [
    {
     "data": {
      "text/plain": [
       "1468937"
      ]
     },
     "execution_count": 4,
     "metadata": {},
     "output_type": "execute_result"
    }
   ],
   "source": [
    "crash_data.size"
   ]
  }
 ],
 "metadata": {
  "kernelspec": {
   "display_name": "Python 3 (ipykernel)",
   "language": "python",
   "name": "python3"
  },
  "language_info": {
   "codemirror_mode": {
    "name": "ipython",
    "version": 3
   },
   "file_extension": ".py",
   "mimetype": "text/x-python",
   "name": "python",
   "nbconvert_exporter": "python",
   "pygments_lexer": "ipython3",
   "version": "3.8.10"
  }
 },
 "nbformat": 4,
 "nbformat_minor": 5
}
